{
  "nbformat": 4,
  "nbformat_minor": 0,
  "metadata": {
    "colab": {
      "provenance": [],
      "toc_visible": true,
      "authorship_tag": "ABX9TyNElP7mD2sQFZwjBiEKOofB",
      "include_colab_link": true
    },
    "kernelspec": {
      "name": "python3",
      "display_name": "Python 3"
    },
    "language_info": {
      "name": "python"
    }
  },
  "cells": [
    {
      "cell_type": "markdown",
      "metadata": {
        "id": "view-in-github",
        "colab_type": "text"
      },
      "source": [
        "<a href=\"https://colab.research.google.com/github/pa1kpuram/projects/blob/main/Walmart_Confidence_Interval_and_CLT.ipynb\" target=\"_parent\"><img src=\"https://colab.research.google.com/assets/colab-badge.svg\" alt=\"Open In Colab\"/></a>"
      ]
    },
    {
      "cell_type": "markdown",
      "source": [
        "# **Walmart's Data Mastery: Unveiling the Power of Confidence Intervals and the Central Limit Theorem**"
      ],
      "metadata": {
        "id": "NVArsPHKWlM2"
      }
    },
    {
      "cell_type": "markdown",
      "source": [
        "# **Table of Contents**\n",
        "\n",
        "Walmart's Data Mastery: Unveiling the Power of Confidence Intervals and the Central Limit Theorem\n",
        "\n",
        "1. **Introduction**\n",
        "\n",
        "    🛍️ Introduction to Walmart\n",
        "\n",
        "    Business Problem\n",
        "\n",
        "    🎯 Objective\n",
        "\n",
        "2. **Exploratory Data Analysis**\n",
        "    \n",
        "    📊 Statistical Summary\n",
        "    \n",
        "    👥 Duplicate Detection\n",
        "\n",
        "    ✅ Sanity Check for columns\n",
        "\n",
        "    👨🏽‍💻 Missing Value Analysis\n",
        "\n",
        "    🔍📈Detecting Outliers\n",
        "\n",
        "3. **Univariate Analysis**\n",
        "\n",
        "    🙎🏻‍♂️🙎🏻‍♀️ Gender Distribution\n",
        "\n",
        "     Age Distribution\n",
        "    \n",
        "    💰 Purchase Distribution\n",
        "\n",
        "4. **Bivariate Analysis**\n",
        "\n",
        "    🙎🏻‍♂️🙎🏻‍♀️ Gender VS 💰 Purchase Amount\n",
        "\n",
        "    Age VS 💰 Purchase Amount\n",
        "\n",
        "    👩🏻‍🤝‍🧑🏻Marital Status VS 💰 Purchase Amount\n",
        "\n",
        "5. **Analysis of Average Spending and Purchase Amount by Gender**\n",
        "\n",
        "    5.1 Average Purchase Amount by Gender\n",
        "\n",
        "    5.2 Confidence Intervals for Average Spending by Gender\n",
        "\n",
        "6. **Analysis of Purchase Amount and Average Spending by Marital Status**\n",
        "\n",
        "    6.1 Average Purchase Amount by Marital Status\n",
        "\n",
        "    6.2 Confidence Intervals for Average Spending by Marital Status\n",
        "\n",
        "7. **Analysis of Purchase Amount and Average Spending by Age Group**\n",
        "\n",
        "    7.1 Average Purchase Amount by Age Group\n",
        "\n",
        "    7.2 Confidence Intervals for Average Spending by Age Group\n",
        "\n",
        "8. **Business Recommendations**"
      ],
      "metadata": {
        "id": "sFnrlfeMRNec"
      }
    },
    {
      "cell_type": "markdown",
      "source": [
        "# **1. Introduction**"
      ],
      "metadata": {
        "id": "BSKhdMbyWvca"
      }
    },
    {
      "cell_type": "markdown",
      "source": [
        "## **🛍️ Introduction to Walmart:**\n",
        "\n",
        "Walmart Inc. stands as a global retail giant, with a presence in numerous countries and serving over 100 million customers worldwide. Founded in the United States, Walmart operates a vast network of supercenters, discount departmental stores, and grocery outlets, offering a wide range of products to consumers.\n",
        "\n",
        "## **Business Problem:**\n",
        "\n",
        "In the fast-paced retail landscape, understanding customer behavior is crucial for Walmart to maintain its competitive edge. Specifically, during events like Black Friday, where consumer spending peaks, Walmart seeks to delve deeper into customer purchase behavior. The management team aims to analyze how customer spending patterns vary based on gender and other demographic factors, such as marital status and age. By gaining insights into these spending habits, Walmart can make informed decisions to enhance its marketing strategies, product offerings, and overall customer experience.\n",
        "\n",
        "## **🎯 Objective**\n",
        "\n",
        "The objective of this project is to conduct a comprehensive analysis of customer purchase behavior, with a specific focus on purchase amounts, in relation to customer gender during the Black Friday sales event at Walmart Inc. This study aims to provide valuable insights that can assist the management team at Walmart Inc. in making data-driven decisions.\n",
        "\n",
        "## **📃 Features of the dataset:**\n",
        "\n",
        "| Feature | Description |\n",
        "|:--------|:------------|\n",
        "| User_ID | Unique identifier for the customer |\n",
        "| Product_ID | Unique identifier for the purchased product |\n",
        "| Gender | Gender of the customer (Male/Female) |\n",
        "| Age | Age of the customer (in bins) |\n",
        "| Occupation | Occupation of the customer (Masked) |\n",
        "| City_Category | Category of the city where the customer resides (A, B, C) |\n",
        "| StayInCurrentCityYears | Number of years the customer has stayed in the current city |\n",
        "| Marital_Status | Marital status of the customer (0 for unmarried, 1 for married) |\n",
        "| ProductCategory | Category of the purchased product (Masked) |\n",
        "| Purchase | Amount spent by the customer on the purchase |\n"
      ],
      "metadata": {
        "id": "l10obbXdO77K"
      }
    },
    {
      "cell_type": "markdown",
      "source": [
        "# **2. Exploratory Data Analysis**"
      ],
      "metadata": {
        "id": "Inj5XlmuXtzg"
      }
    },
    {
      "cell_type": "code",
      "source": [
        "#importing libraries\n",
        "import numpy as np\n",
        "import pandas as pd\n",
        "import matplotlib.pyplot as plt\n",
        "import seaborn as sns\n",
        "from scipy.stats import t\n",
        "import warnings\n",
        "warnings.filterwarnings('ignore')\n",
        "import copy"
      ],
      "metadata": {
        "id": "AdChKbO4XrZ5"
      },
      "execution_count": null,
      "outputs": []
    },
    {
      "cell_type": "code",
      "source": [
        "# loading the dataset\n",
        "df = pd.read_csv('/content/walmart_data.csv')"
      ],
      "metadata": {
        "id": "7I2i1YB5X6E0"
      },
      "execution_count": null,
      "outputs": []
    },
    {
      "cell_type": "code",
      "source": [
        "df.head()"
      ],
      "metadata": {
        "colab": {
          "base_uri": "https://localhost:8080/",
          "height": 206
        },
        "id": "cPzIWwZaYH3V",
        "outputId": "9429b0e8-5ca4-4fb7-86db-474abde9ccab"
      },
      "execution_count": null,
      "outputs": [
        {
          "output_type": "execute_result",
          "data": {
            "text/plain": [
              "   User_ID Product_ID Gender   Age  Occupation City_Category  \\\n",
              "0  1000001  P00069042      F  0-17          10             A   \n",
              "1  1000001  P00248942      F  0-17          10             A   \n",
              "2  1000001  P00087842      F  0-17          10             A   \n",
              "3  1000001  P00085442      F  0-17          10             A   \n",
              "4  1000002  P00285442      M   55+          16             C   \n",
              "\n",
              "  Stay_In_Current_City_Years  Marital_Status  Product_Category  Purchase  \n",
              "0                          2               0                 3      8370  \n",
              "1                          2               0                 1     15200  \n",
              "2                          2               0                12      1422  \n",
              "3                          2               0                12      1057  \n",
              "4                         4+               0                 8      7969  "
            ],
            "text/html": [
              "\n",
              "  <div id=\"df-a5fc5aa7-a92a-46d8-8c21-3147ae86af19\" class=\"colab-df-container\">\n",
              "    <div>\n",
              "<style scoped>\n",
              "    .dataframe tbody tr th:only-of-type {\n",
              "        vertical-align: middle;\n",
              "    }\n",
              "\n",
              "    .dataframe tbody tr th {\n",
              "        vertical-align: top;\n",
              "    }\n",
              "\n",
              "    .dataframe thead th {\n",
              "        text-align: right;\n",
              "    }\n",
              "</style>\n",
              "<table border=\"1\" class=\"dataframe\">\n",
              "  <thead>\n",
              "    <tr style=\"text-align: right;\">\n",
              "      <th></th>\n",
              "      <th>User_ID</th>\n",
              "      <th>Product_ID</th>\n",
              "      <th>Gender</th>\n",
              "      <th>Age</th>\n",
              "      <th>Occupation</th>\n",
              "      <th>City_Category</th>\n",
              "      <th>Stay_In_Current_City_Years</th>\n",
              "      <th>Marital_Status</th>\n",
              "      <th>Product_Category</th>\n",
              "      <th>Purchase</th>\n",
              "    </tr>\n",
              "  </thead>\n",
              "  <tbody>\n",
              "    <tr>\n",
              "      <th>0</th>\n",
              "      <td>1000001</td>\n",
              "      <td>P00069042</td>\n",
              "      <td>F</td>\n",
              "      <td>0-17</td>\n",
              "      <td>10</td>\n",
              "      <td>A</td>\n",
              "      <td>2</td>\n",
              "      <td>0</td>\n",
              "      <td>3</td>\n",
              "      <td>8370</td>\n",
              "    </tr>\n",
              "    <tr>\n",
              "      <th>1</th>\n",
              "      <td>1000001</td>\n",
              "      <td>P00248942</td>\n",
              "      <td>F</td>\n",
              "      <td>0-17</td>\n",
              "      <td>10</td>\n",
              "      <td>A</td>\n",
              "      <td>2</td>\n",
              "      <td>0</td>\n",
              "      <td>1</td>\n",
              "      <td>15200</td>\n",
              "    </tr>\n",
              "    <tr>\n",
              "      <th>2</th>\n",
              "      <td>1000001</td>\n",
              "      <td>P00087842</td>\n",
              "      <td>F</td>\n",
              "      <td>0-17</td>\n",
              "      <td>10</td>\n",
              "      <td>A</td>\n",
              "      <td>2</td>\n",
              "      <td>0</td>\n",
              "      <td>12</td>\n",
              "      <td>1422</td>\n",
              "    </tr>\n",
              "    <tr>\n",
              "      <th>3</th>\n",
              "      <td>1000001</td>\n",
              "      <td>P00085442</td>\n",
              "      <td>F</td>\n",
              "      <td>0-17</td>\n",
              "      <td>10</td>\n",
              "      <td>A</td>\n",
              "      <td>2</td>\n",
              "      <td>0</td>\n",
              "      <td>12</td>\n",
              "      <td>1057</td>\n",
              "    </tr>\n",
              "    <tr>\n",
              "      <th>4</th>\n",
              "      <td>1000002</td>\n",
              "      <td>P00285442</td>\n",
              "      <td>M</td>\n",
              "      <td>55+</td>\n",
              "      <td>16</td>\n",
              "      <td>C</td>\n",
              "      <td>4+</td>\n",
              "      <td>0</td>\n",
              "      <td>8</td>\n",
              "      <td>7969</td>\n",
              "    </tr>\n",
              "  </tbody>\n",
              "</table>\n",
              "</div>\n",
              "    <div class=\"colab-df-buttons\">\n",
              "\n",
              "  <div class=\"colab-df-container\">\n",
              "    <button class=\"colab-df-convert\" onclick=\"convertToInteractive('df-a5fc5aa7-a92a-46d8-8c21-3147ae86af19')\"\n",
              "            title=\"Convert this dataframe to an interactive table.\"\n",
              "            style=\"display:none;\">\n",
              "\n",
              "  <svg xmlns=\"http://www.w3.org/2000/svg\" height=\"24px\" viewBox=\"0 -960 960 960\">\n",
              "    <path d=\"M120-120v-720h720v720H120Zm60-500h600v-160H180v160Zm220 220h160v-160H400v160Zm0 220h160v-160H400v160ZM180-400h160v-160H180v160Zm440 0h160v-160H620v160ZM180-180h160v-160H180v160Zm440 0h160v-160H620v160Z\"/>\n",
              "  </svg>\n",
              "    </button>\n",
              "\n",
              "  <style>\n",
              "    .colab-df-container {\n",
              "      display:flex;\n",
              "      gap: 12px;\n",
              "    }\n",
              "\n",
              "    .colab-df-convert {\n",
              "      background-color: #E8F0FE;\n",
              "      border: none;\n",
              "      border-radius: 50%;\n",
              "      cursor: pointer;\n",
              "      display: none;\n",
              "      fill: #1967D2;\n",
              "      height: 32px;\n",
              "      padding: 0 0 0 0;\n",
              "      width: 32px;\n",
              "    }\n",
              "\n",
              "    .colab-df-convert:hover {\n",
              "      background-color: #E2EBFA;\n",
              "      box-shadow: 0px 1px 2px rgba(60, 64, 67, 0.3), 0px 1px 3px 1px rgba(60, 64, 67, 0.15);\n",
              "      fill: #174EA6;\n",
              "    }\n",
              "\n",
              "    .colab-df-buttons div {\n",
              "      margin-bottom: 4px;\n",
              "    }\n",
              "\n",
              "    [theme=dark] .colab-df-convert {\n",
              "      background-color: #3B4455;\n",
              "      fill: #D2E3FC;\n",
              "    }\n",
              "\n",
              "    [theme=dark] .colab-df-convert:hover {\n",
              "      background-color: #434B5C;\n",
              "      box-shadow: 0px 1px 3px 1px rgba(0, 0, 0, 0.15);\n",
              "      filter: drop-shadow(0px 1px 2px rgba(0, 0, 0, 0.3));\n",
              "      fill: #FFFFFF;\n",
              "    }\n",
              "  </style>\n",
              "\n",
              "    <script>\n",
              "      const buttonEl =\n",
              "        document.querySelector('#df-a5fc5aa7-a92a-46d8-8c21-3147ae86af19 button.colab-df-convert');\n",
              "      buttonEl.style.display =\n",
              "        google.colab.kernel.accessAllowed ? 'block' : 'none';\n",
              "\n",
              "      async function convertToInteractive(key) {\n",
              "        const element = document.querySelector('#df-a5fc5aa7-a92a-46d8-8c21-3147ae86af19');\n",
              "        const dataTable =\n",
              "          await google.colab.kernel.invokeFunction('convertToInteractive',\n",
              "                                                    [key], {});\n",
              "        if (!dataTable) return;\n",
              "\n",
              "        const docLinkHtml = 'Like what you see? Visit the ' +\n",
              "          '<a target=\"_blank\" href=https://colab.research.google.com/notebooks/data_table.ipynb>data table notebook</a>'\n",
              "          + ' to learn more about interactive tables.';\n",
              "        element.innerHTML = '';\n",
              "        dataTable['output_type'] = 'display_data';\n",
              "        await google.colab.output.renderOutput(dataTable, element);\n",
              "        const docLink = document.createElement('div');\n",
              "        docLink.innerHTML = docLinkHtml;\n",
              "        element.appendChild(docLink);\n",
              "      }\n",
              "    </script>\n",
              "  </div>\n",
              "\n",
              "\n",
              "<div id=\"df-19a44dee-4a04-4cba-a3cc-3836446e58f7\">\n",
              "  <button class=\"colab-df-quickchart\" onclick=\"quickchart('df-19a44dee-4a04-4cba-a3cc-3836446e58f7')\"\n",
              "            title=\"Suggest charts\"\n",
              "            style=\"display:none;\">\n",
              "\n",
              "<svg xmlns=\"http://www.w3.org/2000/svg\" height=\"24px\"viewBox=\"0 0 24 24\"\n",
              "     width=\"24px\">\n",
              "    <g>\n",
              "        <path d=\"M19 3H5c-1.1 0-2 .9-2 2v14c0 1.1.9 2 2 2h14c1.1 0 2-.9 2-2V5c0-1.1-.9-2-2-2zM9 17H7v-7h2v7zm4 0h-2V7h2v10zm4 0h-2v-4h2v4z\"/>\n",
              "    </g>\n",
              "</svg>\n",
              "  </button>\n",
              "\n",
              "<style>\n",
              "  .colab-df-quickchart {\n",
              "      --bg-color: #E8F0FE;\n",
              "      --fill-color: #1967D2;\n",
              "      --hover-bg-color: #E2EBFA;\n",
              "      --hover-fill-color: #174EA6;\n",
              "      --disabled-fill-color: #AAA;\n",
              "      --disabled-bg-color: #DDD;\n",
              "  }\n",
              "\n",
              "  [theme=dark] .colab-df-quickchart {\n",
              "      --bg-color: #3B4455;\n",
              "      --fill-color: #D2E3FC;\n",
              "      --hover-bg-color: #434B5C;\n",
              "      --hover-fill-color: #FFFFFF;\n",
              "      --disabled-bg-color: #3B4455;\n",
              "      --disabled-fill-color: #666;\n",
              "  }\n",
              "\n",
              "  .colab-df-quickchart {\n",
              "    background-color: var(--bg-color);\n",
              "    border: none;\n",
              "    border-radius: 50%;\n",
              "    cursor: pointer;\n",
              "    display: none;\n",
              "    fill: var(--fill-color);\n",
              "    height: 32px;\n",
              "    padding: 0;\n",
              "    width: 32px;\n",
              "  }\n",
              "\n",
              "  .colab-df-quickchart:hover {\n",
              "    background-color: var(--hover-bg-color);\n",
              "    box-shadow: 0 1px 2px rgba(60, 64, 67, 0.3), 0 1px 3px 1px rgba(60, 64, 67, 0.15);\n",
              "    fill: var(--button-hover-fill-color);\n",
              "  }\n",
              "\n",
              "  .colab-df-quickchart-complete:disabled,\n",
              "  .colab-df-quickchart-complete:disabled:hover {\n",
              "    background-color: var(--disabled-bg-color);\n",
              "    fill: var(--disabled-fill-color);\n",
              "    box-shadow: none;\n",
              "  }\n",
              "\n",
              "  .colab-df-spinner {\n",
              "    border: 2px solid var(--fill-color);\n",
              "    border-color: transparent;\n",
              "    border-bottom-color: var(--fill-color);\n",
              "    animation:\n",
              "      spin 1s steps(1) infinite;\n",
              "  }\n",
              "\n",
              "  @keyframes spin {\n",
              "    0% {\n",
              "      border-color: transparent;\n",
              "      border-bottom-color: var(--fill-color);\n",
              "      border-left-color: var(--fill-color);\n",
              "    }\n",
              "    20% {\n",
              "      border-color: transparent;\n",
              "      border-left-color: var(--fill-color);\n",
              "      border-top-color: var(--fill-color);\n",
              "    }\n",
              "    30% {\n",
              "      border-color: transparent;\n",
              "      border-left-color: var(--fill-color);\n",
              "      border-top-color: var(--fill-color);\n",
              "      border-right-color: var(--fill-color);\n",
              "    }\n",
              "    40% {\n",
              "      border-color: transparent;\n",
              "      border-right-color: var(--fill-color);\n",
              "      border-top-color: var(--fill-color);\n",
              "    }\n",
              "    60% {\n",
              "      border-color: transparent;\n",
              "      border-right-color: var(--fill-color);\n",
              "    }\n",
              "    80% {\n",
              "      border-color: transparent;\n",
              "      border-right-color: var(--fill-color);\n",
              "      border-bottom-color: var(--fill-color);\n",
              "    }\n",
              "    90% {\n",
              "      border-color: transparent;\n",
              "      border-bottom-color: var(--fill-color);\n",
              "    }\n",
              "  }\n",
              "</style>\n",
              "\n",
              "  <script>\n",
              "    async function quickchart(key) {\n",
              "      const quickchartButtonEl =\n",
              "        document.querySelector('#' + key + ' button');\n",
              "      quickchartButtonEl.disabled = true;  // To prevent multiple clicks.\n",
              "      quickchartButtonEl.classList.add('colab-df-spinner');\n",
              "      try {\n",
              "        const charts = await google.colab.kernel.invokeFunction(\n",
              "            'suggestCharts', [key], {});\n",
              "      } catch (error) {\n",
              "        console.error('Error during call to suggestCharts:', error);\n",
              "      }\n",
              "      quickchartButtonEl.classList.remove('colab-df-spinner');\n",
              "      quickchartButtonEl.classList.add('colab-df-quickchart-complete');\n",
              "    }\n",
              "    (() => {\n",
              "      let quickchartButtonEl =\n",
              "        document.querySelector('#df-19a44dee-4a04-4cba-a3cc-3836446e58f7 button');\n",
              "      quickchartButtonEl.style.display =\n",
              "        google.colab.kernel.accessAllowed ? 'block' : 'none';\n",
              "    })();\n",
              "  </script>\n",
              "</div>\n",
              "\n",
              "    </div>\n",
              "  </div>\n"
            ],
            "application/vnd.google.colaboratory.intrinsic+json": {
              "type": "dataframe",
              "variable_name": "df"
            }
          },
          "metadata": {},
          "execution_count": 16
        }
      ]
    },
    {
      "cell_type": "code",
      "source": [
        "df.tail()"
      ],
      "metadata": {
        "colab": {
          "base_uri": "https://localhost:8080/",
          "height": 206
        },
        "id": "hCOlqNoTYKLt",
        "outputId": "322f2364-748c-4461-f1ed-a405b9cae95a"
      },
      "execution_count": null,
      "outputs": [
        {
          "output_type": "execute_result",
          "data": {
            "text/plain": [
              "        User_ID Product_ID Gender    Age  Occupation City_Category  \\\n",
              "550063  1006033  P00372445      M  51-55          13             B   \n",
              "550064  1006035  P00375436      F  26-35           1             C   \n",
              "550065  1006036  P00375436      F  26-35          15             B   \n",
              "550066  1006038  P00375436      F    55+           1             C   \n",
              "550067  1006039  P00371644      F  46-50           0             B   \n",
              "\n",
              "       Stay_In_Current_City_Years  Marital_Status  Product_Category  Purchase  \n",
              "550063                          1               1                20       368  \n",
              "550064                          3               0                20       371  \n",
              "550065                         4+               1                20       137  \n",
              "550066                          2               0                20       365  \n",
              "550067                         4+               1                20       490  "
            ],
            "text/html": [
              "\n",
              "  <div id=\"df-6bb7b21a-1543-4c32-9956-17a1095f3c78\" class=\"colab-df-container\">\n",
              "    <div>\n",
              "<style scoped>\n",
              "    .dataframe tbody tr th:only-of-type {\n",
              "        vertical-align: middle;\n",
              "    }\n",
              "\n",
              "    .dataframe tbody tr th {\n",
              "        vertical-align: top;\n",
              "    }\n",
              "\n",
              "    .dataframe thead th {\n",
              "        text-align: right;\n",
              "    }\n",
              "</style>\n",
              "<table border=\"1\" class=\"dataframe\">\n",
              "  <thead>\n",
              "    <tr style=\"text-align: right;\">\n",
              "      <th></th>\n",
              "      <th>User_ID</th>\n",
              "      <th>Product_ID</th>\n",
              "      <th>Gender</th>\n",
              "      <th>Age</th>\n",
              "      <th>Occupation</th>\n",
              "      <th>City_Category</th>\n",
              "      <th>Stay_In_Current_City_Years</th>\n",
              "      <th>Marital_Status</th>\n",
              "      <th>Product_Category</th>\n",
              "      <th>Purchase</th>\n",
              "    </tr>\n",
              "  </thead>\n",
              "  <tbody>\n",
              "    <tr>\n",
              "      <th>550063</th>\n",
              "      <td>1006033</td>\n",
              "      <td>P00372445</td>\n",
              "      <td>M</td>\n",
              "      <td>51-55</td>\n",
              "      <td>13</td>\n",
              "      <td>B</td>\n",
              "      <td>1</td>\n",
              "      <td>1</td>\n",
              "      <td>20</td>\n",
              "      <td>368</td>\n",
              "    </tr>\n",
              "    <tr>\n",
              "      <th>550064</th>\n",
              "      <td>1006035</td>\n",
              "      <td>P00375436</td>\n",
              "      <td>F</td>\n",
              "      <td>26-35</td>\n",
              "      <td>1</td>\n",
              "      <td>C</td>\n",
              "      <td>3</td>\n",
              "      <td>0</td>\n",
              "      <td>20</td>\n",
              "      <td>371</td>\n",
              "    </tr>\n",
              "    <tr>\n",
              "      <th>550065</th>\n",
              "      <td>1006036</td>\n",
              "      <td>P00375436</td>\n",
              "      <td>F</td>\n",
              "      <td>26-35</td>\n",
              "      <td>15</td>\n",
              "      <td>B</td>\n",
              "      <td>4+</td>\n",
              "      <td>1</td>\n",
              "      <td>20</td>\n",
              "      <td>137</td>\n",
              "    </tr>\n",
              "    <tr>\n",
              "      <th>550066</th>\n",
              "      <td>1006038</td>\n",
              "      <td>P00375436</td>\n",
              "      <td>F</td>\n",
              "      <td>55+</td>\n",
              "      <td>1</td>\n",
              "      <td>C</td>\n",
              "      <td>2</td>\n",
              "      <td>0</td>\n",
              "      <td>20</td>\n",
              "      <td>365</td>\n",
              "    </tr>\n",
              "    <tr>\n",
              "      <th>550067</th>\n",
              "      <td>1006039</td>\n",
              "      <td>P00371644</td>\n",
              "      <td>F</td>\n",
              "      <td>46-50</td>\n",
              "      <td>0</td>\n",
              "      <td>B</td>\n",
              "      <td>4+</td>\n",
              "      <td>1</td>\n",
              "      <td>20</td>\n",
              "      <td>490</td>\n",
              "    </tr>\n",
              "  </tbody>\n",
              "</table>\n",
              "</div>\n",
              "    <div class=\"colab-df-buttons\">\n",
              "\n",
              "  <div class=\"colab-df-container\">\n",
              "    <button class=\"colab-df-convert\" onclick=\"convertToInteractive('df-6bb7b21a-1543-4c32-9956-17a1095f3c78')\"\n",
              "            title=\"Convert this dataframe to an interactive table.\"\n",
              "            style=\"display:none;\">\n",
              "\n",
              "  <svg xmlns=\"http://www.w3.org/2000/svg\" height=\"24px\" viewBox=\"0 -960 960 960\">\n",
              "    <path d=\"M120-120v-720h720v720H120Zm60-500h600v-160H180v160Zm220 220h160v-160H400v160Zm0 220h160v-160H400v160ZM180-400h160v-160H180v160Zm440 0h160v-160H620v160ZM180-180h160v-160H180v160Zm440 0h160v-160H620v160Z\"/>\n",
              "  </svg>\n",
              "    </button>\n",
              "\n",
              "  <style>\n",
              "    .colab-df-container {\n",
              "      display:flex;\n",
              "      gap: 12px;\n",
              "    }\n",
              "\n",
              "    .colab-df-convert {\n",
              "      background-color: #E8F0FE;\n",
              "      border: none;\n",
              "      border-radius: 50%;\n",
              "      cursor: pointer;\n",
              "      display: none;\n",
              "      fill: #1967D2;\n",
              "      height: 32px;\n",
              "      padding: 0 0 0 0;\n",
              "      width: 32px;\n",
              "    }\n",
              "\n",
              "    .colab-df-convert:hover {\n",
              "      background-color: #E2EBFA;\n",
              "      box-shadow: 0px 1px 2px rgba(60, 64, 67, 0.3), 0px 1px 3px 1px rgba(60, 64, 67, 0.15);\n",
              "      fill: #174EA6;\n",
              "    }\n",
              "\n",
              "    .colab-df-buttons div {\n",
              "      margin-bottom: 4px;\n",
              "    }\n",
              "\n",
              "    [theme=dark] .colab-df-convert {\n",
              "      background-color: #3B4455;\n",
              "      fill: #D2E3FC;\n",
              "    }\n",
              "\n",
              "    [theme=dark] .colab-df-convert:hover {\n",
              "      background-color: #434B5C;\n",
              "      box-shadow: 0px 1px 3px 1px rgba(0, 0, 0, 0.15);\n",
              "      filter: drop-shadow(0px 1px 2px rgba(0, 0, 0, 0.3));\n",
              "      fill: #FFFFFF;\n",
              "    }\n",
              "  </style>\n",
              "\n",
              "    <script>\n",
              "      const buttonEl =\n",
              "        document.querySelector('#df-6bb7b21a-1543-4c32-9956-17a1095f3c78 button.colab-df-convert');\n",
              "      buttonEl.style.display =\n",
              "        google.colab.kernel.accessAllowed ? 'block' : 'none';\n",
              "\n",
              "      async function convertToInteractive(key) {\n",
              "        const element = document.querySelector('#df-6bb7b21a-1543-4c32-9956-17a1095f3c78');\n",
              "        const dataTable =\n",
              "          await google.colab.kernel.invokeFunction('convertToInteractive',\n",
              "                                                    [key], {});\n",
              "        if (!dataTable) return;\n",
              "\n",
              "        const docLinkHtml = 'Like what you see? Visit the ' +\n",
              "          '<a target=\"_blank\" href=https://colab.research.google.com/notebooks/data_table.ipynb>data table notebook</a>'\n",
              "          + ' to learn more about interactive tables.';\n",
              "        element.innerHTML = '';\n",
              "        dataTable['output_type'] = 'display_data';\n",
              "        await google.colab.output.renderOutput(dataTable, element);\n",
              "        const docLink = document.createElement('div');\n",
              "        docLink.innerHTML = docLinkHtml;\n",
              "        element.appendChild(docLink);\n",
              "      }\n",
              "    </script>\n",
              "  </div>\n",
              "\n",
              "\n",
              "<div id=\"df-60d9a819-abc4-4755-84fb-effbc675c35d\">\n",
              "  <button class=\"colab-df-quickchart\" onclick=\"quickchart('df-60d9a819-abc4-4755-84fb-effbc675c35d')\"\n",
              "            title=\"Suggest charts\"\n",
              "            style=\"display:none;\">\n",
              "\n",
              "<svg xmlns=\"http://www.w3.org/2000/svg\" height=\"24px\"viewBox=\"0 0 24 24\"\n",
              "     width=\"24px\">\n",
              "    <g>\n",
              "        <path d=\"M19 3H5c-1.1 0-2 .9-2 2v14c0 1.1.9 2 2 2h14c1.1 0 2-.9 2-2V5c0-1.1-.9-2-2-2zM9 17H7v-7h2v7zm4 0h-2V7h2v10zm4 0h-2v-4h2v4z\"/>\n",
              "    </g>\n",
              "</svg>\n",
              "  </button>\n",
              "\n",
              "<style>\n",
              "  .colab-df-quickchart {\n",
              "      --bg-color: #E8F0FE;\n",
              "      --fill-color: #1967D2;\n",
              "      --hover-bg-color: #E2EBFA;\n",
              "      --hover-fill-color: #174EA6;\n",
              "      --disabled-fill-color: #AAA;\n",
              "      --disabled-bg-color: #DDD;\n",
              "  }\n",
              "\n",
              "  [theme=dark] .colab-df-quickchart {\n",
              "      --bg-color: #3B4455;\n",
              "      --fill-color: #D2E3FC;\n",
              "      --hover-bg-color: #434B5C;\n",
              "      --hover-fill-color: #FFFFFF;\n",
              "      --disabled-bg-color: #3B4455;\n",
              "      --disabled-fill-color: #666;\n",
              "  }\n",
              "\n",
              "  .colab-df-quickchart {\n",
              "    background-color: var(--bg-color);\n",
              "    border: none;\n",
              "    border-radius: 50%;\n",
              "    cursor: pointer;\n",
              "    display: none;\n",
              "    fill: var(--fill-color);\n",
              "    height: 32px;\n",
              "    padding: 0;\n",
              "    width: 32px;\n",
              "  }\n",
              "\n",
              "  .colab-df-quickchart:hover {\n",
              "    background-color: var(--hover-bg-color);\n",
              "    box-shadow: 0 1px 2px rgba(60, 64, 67, 0.3), 0 1px 3px 1px rgba(60, 64, 67, 0.15);\n",
              "    fill: var(--button-hover-fill-color);\n",
              "  }\n",
              "\n",
              "  .colab-df-quickchart-complete:disabled,\n",
              "  .colab-df-quickchart-complete:disabled:hover {\n",
              "    background-color: var(--disabled-bg-color);\n",
              "    fill: var(--disabled-fill-color);\n",
              "    box-shadow: none;\n",
              "  }\n",
              "\n",
              "  .colab-df-spinner {\n",
              "    border: 2px solid var(--fill-color);\n",
              "    border-color: transparent;\n",
              "    border-bottom-color: var(--fill-color);\n",
              "    animation:\n",
              "      spin 1s steps(1) infinite;\n",
              "  }\n",
              "\n",
              "  @keyframes spin {\n",
              "    0% {\n",
              "      border-color: transparent;\n",
              "      border-bottom-color: var(--fill-color);\n",
              "      border-left-color: var(--fill-color);\n",
              "    }\n",
              "    20% {\n",
              "      border-color: transparent;\n",
              "      border-left-color: var(--fill-color);\n",
              "      border-top-color: var(--fill-color);\n",
              "    }\n",
              "    30% {\n",
              "      border-color: transparent;\n",
              "      border-left-color: var(--fill-color);\n",
              "      border-top-color: var(--fill-color);\n",
              "      border-right-color: var(--fill-color);\n",
              "    }\n",
              "    40% {\n",
              "      border-color: transparent;\n",
              "      border-right-color: var(--fill-color);\n",
              "      border-top-color: var(--fill-color);\n",
              "    }\n",
              "    60% {\n",
              "      border-color: transparent;\n",
              "      border-right-color: var(--fill-color);\n",
              "    }\n",
              "    80% {\n",
              "      border-color: transparent;\n",
              "      border-right-color: var(--fill-color);\n",
              "      border-bottom-color: var(--fill-color);\n",
              "    }\n",
              "    90% {\n",
              "      border-color: transparent;\n",
              "      border-bottom-color: var(--fill-color);\n",
              "    }\n",
              "  }\n",
              "</style>\n",
              "\n",
              "  <script>\n",
              "    async function quickchart(key) {\n",
              "      const quickchartButtonEl =\n",
              "        document.querySelector('#' + key + ' button');\n",
              "      quickchartButtonEl.disabled = true;  // To prevent multiple clicks.\n",
              "      quickchartButtonEl.classList.add('colab-df-spinner');\n",
              "      try {\n",
              "        const charts = await google.colab.kernel.invokeFunction(\n",
              "            'suggestCharts', [key], {});\n",
              "      } catch (error) {\n",
              "        console.error('Error during call to suggestCharts:', error);\n",
              "      }\n",
              "      quickchartButtonEl.classList.remove('colab-df-spinner');\n",
              "      quickchartButtonEl.classList.add('colab-df-quickchart-complete');\n",
              "    }\n",
              "    (() => {\n",
              "      let quickchartButtonEl =\n",
              "        document.querySelector('#df-60d9a819-abc4-4755-84fb-effbc675c35d button');\n",
              "      quickchartButtonEl.style.display =\n",
              "        google.colab.kernel.accessAllowed ? 'block' : 'none';\n",
              "    })();\n",
              "  </script>\n",
              "</div>\n",
              "\n",
              "    </div>\n",
              "  </div>\n"
            ],
            "application/vnd.google.colaboratory.intrinsic+json": {
              "type": "dataframe",
              "summary": "{\n  \"name\": \"df\",\n  \"rows\": 5,\n  \"fields\": [\n    {\n      \"column\": \"User_ID\",\n      \"properties\": {\n        \"dtype\": \"number\",\n        \"std\": 2,\n        \"min\": 1006033,\n        \"max\": 1006039,\n        \"num_unique_values\": 5,\n        \"samples\": [\n          1006035,\n          1006039,\n          1006036\n        ],\n        \"semantic_type\": \"\",\n        \"description\": \"\"\n      }\n    },\n    {\n      \"column\": \"Product_ID\",\n      \"properties\": {\n        \"dtype\": \"string\",\n        \"num_unique_values\": 3,\n        \"samples\": [\n          \"P00372445\",\n          \"P00375436\",\n          \"P00371644\"\n        ],\n        \"semantic_type\": \"\",\n        \"description\": \"\"\n      }\n    },\n    {\n      \"column\": \"Gender\",\n      \"properties\": {\n        \"dtype\": \"category\",\n        \"num_unique_values\": 2,\n        \"samples\": [\n          \"F\",\n          \"M\"\n        ],\n        \"semantic_type\": \"\",\n        \"description\": \"\"\n      }\n    },\n    {\n      \"column\": \"Age\",\n      \"properties\": {\n        \"dtype\": \"string\",\n        \"num_unique_values\": 4,\n        \"samples\": [\n          \"26-35\",\n          \"46-50\"\n        ],\n        \"semantic_type\": \"\",\n        \"description\": \"\"\n      }\n    },\n    {\n      \"column\": \"Occupation\",\n      \"properties\": {\n        \"dtype\": \"number\",\n        \"std\": 7,\n        \"min\": 0,\n        \"max\": 15,\n        \"num_unique_values\": 4,\n        \"samples\": [\n          1,\n          0\n        ],\n        \"semantic_type\": \"\",\n        \"description\": \"\"\n      }\n    },\n    {\n      \"column\": \"City_Category\",\n      \"properties\": {\n        \"dtype\": \"category\",\n        \"num_unique_values\": 2,\n        \"samples\": [\n          \"C\",\n          \"B\"\n        ],\n        \"semantic_type\": \"\",\n        \"description\": \"\"\n      }\n    },\n    {\n      \"column\": \"Stay_In_Current_City_Years\",\n      \"properties\": {\n        \"dtype\": \"string\",\n        \"num_unique_values\": 4,\n        \"samples\": [\n          \"3\",\n          \"2\"\n        ],\n        \"semantic_type\": \"\",\n        \"description\": \"\"\n      }\n    },\n    {\n      \"column\": \"Marital_Status\",\n      \"properties\": {\n        \"dtype\": \"number\",\n        \"std\": 0,\n        \"min\": 0,\n        \"max\": 1,\n        \"num_unique_values\": 2,\n        \"samples\": [\n          0,\n          1\n        ],\n        \"semantic_type\": \"\",\n        \"description\": \"\"\n      }\n    },\n    {\n      \"column\": \"Product_Category\",\n      \"properties\": {\n        \"dtype\": \"number\",\n        \"std\": 0,\n        \"min\": 20,\n        \"max\": 20,\n        \"num_unique_values\": 1,\n        \"samples\": [\n          20\n        ],\n        \"semantic_type\": \"\",\n        \"description\": \"\"\n      }\n    },\n    {\n      \"column\": \"Purchase\",\n      \"properties\": {\n        \"dtype\": \"number\",\n        \"std\": 128,\n        \"min\": 137,\n        \"max\": 490,\n        \"num_unique_values\": 5,\n        \"samples\": [\n          371\n        ],\n        \"semantic_type\": \"\",\n        \"description\": \"\"\n      }\n    }\n  ]\n}"
            }
          },
          "metadata": {},
          "execution_count": 17
        }
      ]
    },
    {
      "cell_type": "code",
      "source": [
        "df.shape"
      ],
      "metadata": {
        "colab": {
          "base_uri": "https://localhost:8080/"
        },
        "id": "92MVjYdpYRI3",
        "outputId": "6444e3e6-3047-4840-91c3-9ac21dd113e7"
      },
      "execution_count": null,
      "outputs": [
        {
          "output_type": "execute_result",
          "data": {
            "text/plain": [
              "(550068, 10)"
            ]
          },
          "metadata": {},
          "execution_count": 14
        }
      ]
    },
    {
      "cell_type": "code",
      "source": [
        "df.info()"
      ],
      "metadata": {
        "colab": {
          "base_uri": "https://localhost:8080/"
        },
        "id": "6pSdWkgMYkqI",
        "outputId": "e802741e-1798-4686-9f7b-983efdef1094"
      },
      "execution_count": null,
      "outputs": [
        {
          "output_type": "stream",
          "name": "stdout",
          "text": [
            "<class 'pandas.core.frame.DataFrame'>\n",
            "RangeIndex: 550068 entries, 0 to 550067\n",
            "Data columns (total 10 columns):\n",
            " #   Column                      Non-Null Count   Dtype \n",
            "---  ------                      --------------   ----- \n",
            " 0   User_ID                     550068 non-null  int64 \n",
            " 1   Product_ID                  550068 non-null  object\n",
            " 2   Gender                      550068 non-null  object\n",
            " 3   Age                         550068 non-null  object\n",
            " 4   Occupation                  550068 non-null  int64 \n",
            " 5   City_Category               550068 non-null  object\n",
            " 6   Stay_In_Current_City_Years  550068 non-null  object\n",
            " 7   Marital_Status              550068 non-null  int64 \n",
            " 8   Product_Category            550068 non-null  int64 \n",
            " 9   Purchase                    550068 non-null  int64 \n",
            "dtypes: int64(5), object(5)\n",
            "memory usage: 42.0+ MB\n"
          ]
        }
      ]
    },
    {
      "cell_type": "markdown",
      "source": [
        "### 🔍 Insights\n",
        "\n",
        "- The dataset has 10 features, mixing numeric and categorical data.\n",
        "- `Purchase` is the only numeric column, representing the purchase amount.\n",
        "- All other columns are categorical and have been converted to the 'category' data type.\n",
        "- This conversion optimizes memory usage and improves processing efficiency."
      ],
      "metadata": {
        "id": "ydIFFq3AgyeW"
      }
    },
    {
      "cell_type": "markdown",
      "source": [
        "## 🔁 Changing the Datatype of Columns"
      ],
      "metadata": {
        "id": "WZXeKg_og9QR"
      }
    },
    {
      "cell_type": "code",
      "source": [
        "for i in df.columns[:-1]:\n",
        "    df[i] = df[i].astype('category')\n",
        "\n",
        "df.info()"
      ],
      "metadata": {
        "colab": {
          "base_uri": "https://localhost:8080/"
        },
        "id": "SXoZNwR8gdRS",
        "outputId": "31538438-6af7-4d65-d89d-0da3072776a4"
      },
      "execution_count": null,
      "outputs": [
        {
          "output_type": "stream",
          "name": "stdout",
          "text": [
            "<class 'pandas.core.frame.DataFrame'>\n",
            "RangeIndex: 550068 entries, 0 to 550067\n",
            "Data columns (total 10 columns):\n",
            " #   Column                      Non-Null Count   Dtype   \n",
            "---  ------                      --------------   -----   \n",
            " 0   User_ID                     550068 non-null  category\n",
            " 1   Product_ID                  550068 non-null  category\n",
            " 2   Gender                      550068 non-null  category\n",
            " 3   Age                         550068 non-null  category\n",
            " 4   Occupation                  550068 non-null  category\n",
            " 5   City_Category               550068 non-null  category\n",
            " 6   Stay_In_Current_City_Years  550068 non-null  category\n",
            " 7   Marital_Status              550068 non-null  category\n",
            " 8   Product_Category            550068 non-null  category\n",
            " 9   Purchase                    550068 non-null  int64   \n",
            "dtypes: category(9), int64(1)\n",
            "memory usage: 10.3 MB\n"
          ]
        }
      ]
    },
    {
      "cell_type": "markdown",
      "source": [
        "## 📝 Statistical Summary"
      ],
      "metadata": {
        "id": "KHuKASRVhSbC"
      }
    },
    {
      "cell_type": "markdown",
      "source": [
        "### Satistical summary of object type columns"
      ],
      "metadata": {
        "id": "vbCxf4pMhW-r"
      }
    },
    {
      "cell_type": "code",
      "source": [
        "df.describe(include = 'category')"
      ],
      "metadata": {
        "colab": {
          "base_uri": "https://localhost:8080/",
          "height": 174
        },
        "id": "7hXs7TADhUDs",
        "outputId": "e5e03a87-c41d-40e0-f03b-749c18f4a891"
      },
      "execution_count": null,
      "outputs": [
        {
          "output_type": "execute_result",
          "data": {
            "text/plain": [
              "        User_ID Product_ID  Gender     Age  Occupation City_Category  \\\n",
              "count    550068     550068  550068  550068      550068        550068   \n",
              "unique     5891       3631       2       7          21             3   \n",
              "top     1001680  P00265242       M   26-35           4             B   \n",
              "freq       1026       1880  414259  219587       72308        231173   \n",
              "\n",
              "       Stay_In_Current_City_Years  Marital_Status  Product_Category  \n",
              "count                      550068          550068            550068  \n",
              "unique                          5               2                20  \n",
              "top                             1               0                 5  \n",
              "freq                       193821          324731            150933  "
            ],
            "text/html": [
              "\n",
              "  <div id=\"df-75244ba2-d552-4746-bed6-f3278ba8c4d9\" class=\"colab-df-container\">\n",
              "    <div>\n",
              "<style scoped>\n",
              "    .dataframe tbody tr th:only-of-type {\n",
              "        vertical-align: middle;\n",
              "    }\n",
              "\n",
              "    .dataframe tbody tr th {\n",
              "        vertical-align: top;\n",
              "    }\n",
              "\n",
              "    .dataframe thead th {\n",
              "        text-align: right;\n",
              "    }\n",
              "</style>\n",
              "<table border=\"1\" class=\"dataframe\">\n",
              "  <thead>\n",
              "    <tr style=\"text-align: right;\">\n",
              "      <th></th>\n",
              "      <th>User_ID</th>\n",
              "      <th>Product_ID</th>\n",
              "      <th>Gender</th>\n",
              "      <th>Age</th>\n",
              "      <th>Occupation</th>\n",
              "      <th>City_Category</th>\n",
              "      <th>Stay_In_Current_City_Years</th>\n",
              "      <th>Marital_Status</th>\n",
              "      <th>Product_Category</th>\n",
              "    </tr>\n",
              "  </thead>\n",
              "  <tbody>\n",
              "    <tr>\n",
              "      <th>count</th>\n",
              "      <td>550068</td>\n",
              "      <td>550068</td>\n",
              "      <td>550068</td>\n",
              "      <td>550068</td>\n",
              "      <td>550068</td>\n",
              "      <td>550068</td>\n",
              "      <td>550068</td>\n",
              "      <td>550068</td>\n",
              "      <td>550068</td>\n",
              "    </tr>\n",
              "    <tr>\n",
              "      <th>unique</th>\n",
              "      <td>5891</td>\n",
              "      <td>3631</td>\n",
              "      <td>2</td>\n",
              "      <td>7</td>\n",
              "      <td>21</td>\n",
              "      <td>3</td>\n",
              "      <td>5</td>\n",
              "      <td>2</td>\n",
              "      <td>20</td>\n",
              "    </tr>\n",
              "    <tr>\n",
              "      <th>top</th>\n",
              "      <td>1001680</td>\n",
              "      <td>P00265242</td>\n",
              "      <td>M</td>\n",
              "      <td>26-35</td>\n",
              "      <td>4</td>\n",
              "      <td>B</td>\n",
              "      <td>1</td>\n",
              "      <td>0</td>\n",
              "      <td>5</td>\n",
              "    </tr>\n",
              "    <tr>\n",
              "      <th>freq</th>\n",
              "      <td>1026</td>\n",
              "      <td>1880</td>\n",
              "      <td>414259</td>\n",
              "      <td>219587</td>\n",
              "      <td>72308</td>\n",
              "      <td>231173</td>\n",
              "      <td>193821</td>\n",
              "      <td>324731</td>\n",
              "      <td>150933</td>\n",
              "    </tr>\n",
              "  </tbody>\n",
              "</table>\n",
              "</div>\n",
              "    <div class=\"colab-df-buttons\">\n",
              "\n",
              "  <div class=\"colab-df-container\">\n",
              "    <button class=\"colab-df-convert\" onclick=\"convertToInteractive('df-75244ba2-d552-4746-bed6-f3278ba8c4d9')\"\n",
              "            title=\"Convert this dataframe to an interactive table.\"\n",
              "            style=\"display:none;\">\n",
              "\n",
              "  <svg xmlns=\"http://www.w3.org/2000/svg\" height=\"24px\" viewBox=\"0 -960 960 960\">\n",
              "    <path d=\"M120-120v-720h720v720H120Zm60-500h600v-160H180v160Zm220 220h160v-160H400v160Zm0 220h160v-160H400v160ZM180-400h160v-160H180v160Zm440 0h160v-160H620v160ZM180-180h160v-160H180v160Zm440 0h160v-160H620v160Z\"/>\n",
              "  </svg>\n",
              "    </button>\n",
              "\n",
              "  <style>\n",
              "    .colab-df-container {\n",
              "      display:flex;\n",
              "      gap: 12px;\n",
              "    }\n",
              "\n",
              "    .colab-df-convert {\n",
              "      background-color: #E8F0FE;\n",
              "      border: none;\n",
              "      border-radius: 50%;\n",
              "      cursor: pointer;\n",
              "      display: none;\n",
              "      fill: #1967D2;\n",
              "      height: 32px;\n",
              "      padding: 0 0 0 0;\n",
              "      width: 32px;\n",
              "    }\n",
              "\n",
              "    .colab-df-convert:hover {\n",
              "      background-color: #E2EBFA;\n",
              "      box-shadow: 0px 1px 2px rgba(60, 64, 67, 0.3), 0px 1px 3px 1px rgba(60, 64, 67, 0.15);\n",
              "      fill: #174EA6;\n",
              "    }\n",
              "\n",
              "    .colab-df-buttons div {\n",
              "      margin-bottom: 4px;\n",
              "    }\n",
              "\n",
              "    [theme=dark] .colab-df-convert {\n",
              "      background-color: #3B4455;\n",
              "      fill: #D2E3FC;\n",
              "    }\n",
              "\n",
              "    [theme=dark] .colab-df-convert:hover {\n",
              "      background-color: #434B5C;\n",
              "      box-shadow: 0px 1px 3px 1px rgba(0, 0, 0, 0.15);\n",
              "      filter: drop-shadow(0px 1px 2px rgba(0, 0, 0, 0.3));\n",
              "      fill: #FFFFFF;\n",
              "    }\n",
              "  </style>\n",
              "\n",
              "    <script>\n",
              "      const buttonEl =\n",
              "        document.querySelector('#df-75244ba2-d552-4746-bed6-f3278ba8c4d9 button.colab-df-convert');\n",
              "      buttonEl.style.display =\n",
              "        google.colab.kernel.accessAllowed ? 'block' : 'none';\n",
              "\n",
              "      async function convertToInteractive(key) {\n",
              "        const element = document.querySelector('#df-75244ba2-d552-4746-bed6-f3278ba8c4d9');\n",
              "        const dataTable =\n",
              "          await google.colab.kernel.invokeFunction('convertToInteractive',\n",
              "                                                    [key], {});\n",
              "        if (!dataTable) return;\n",
              "\n",
              "        const docLinkHtml = 'Like what you see? Visit the ' +\n",
              "          '<a target=\"_blank\" href=https://colab.research.google.com/notebooks/data_table.ipynb>data table notebook</a>'\n",
              "          + ' to learn more about interactive tables.';\n",
              "        element.innerHTML = '';\n",
              "        dataTable['output_type'] = 'display_data';\n",
              "        await google.colab.output.renderOutput(dataTable, element);\n",
              "        const docLink = document.createElement('div');\n",
              "        docLink.innerHTML = docLinkHtml;\n",
              "        element.appendChild(docLink);\n",
              "      }\n",
              "    </script>\n",
              "  </div>\n",
              "\n",
              "\n",
              "<div id=\"df-a365f3f9-eba4-445d-9a95-ed15b2fedc11\">\n",
              "  <button class=\"colab-df-quickchart\" onclick=\"quickchart('df-a365f3f9-eba4-445d-9a95-ed15b2fedc11')\"\n",
              "            title=\"Suggest charts\"\n",
              "            style=\"display:none;\">\n",
              "\n",
              "<svg xmlns=\"http://www.w3.org/2000/svg\" height=\"24px\"viewBox=\"0 0 24 24\"\n",
              "     width=\"24px\">\n",
              "    <g>\n",
              "        <path d=\"M19 3H5c-1.1 0-2 .9-2 2v14c0 1.1.9 2 2 2h14c1.1 0 2-.9 2-2V5c0-1.1-.9-2-2-2zM9 17H7v-7h2v7zm4 0h-2V7h2v10zm4 0h-2v-4h2v4z\"/>\n",
              "    </g>\n",
              "</svg>\n",
              "  </button>\n",
              "\n",
              "<style>\n",
              "  .colab-df-quickchart {\n",
              "      --bg-color: #E8F0FE;\n",
              "      --fill-color: #1967D2;\n",
              "      --hover-bg-color: #E2EBFA;\n",
              "      --hover-fill-color: #174EA6;\n",
              "      --disabled-fill-color: #AAA;\n",
              "      --disabled-bg-color: #DDD;\n",
              "  }\n",
              "\n",
              "  [theme=dark] .colab-df-quickchart {\n",
              "      --bg-color: #3B4455;\n",
              "      --fill-color: #D2E3FC;\n",
              "      --hover-bg-color: #434B5C;\n",
              "      --hover-fill-color: #FFFFFF;\n",
              "      --disabled-bg-color: #3B4455;\n",
              "      --disabled-fill-color: #666;\n",
              "  }\n",
              "\n",
              "  .colab-df-quickchart {\n",
              "    background-color: var(--bg-color);\n",
              "    border: none;\n",
              "    border-radius: 50%;\n",
              "    cursor: pointer;\n",
              "    display: none;\n",
              "    fill: var(--fill-color);\n",
              "    height: 32px;\n",
              "    padding: 0;\n",
              "    width: 32px;\n",
              "  }\n",
              "\n",
              "  .colab-df-quickchart:hover {\n",
              "    background-color: var(--hover-bg-color);\n",
              "    box-shadow: 0 1px 2px rgba(60, 64, 67, 0.3), 0 1px 3px 1px rgba(60, 64, 67, 0.15);\n",
              "    fill: var(--button-hover-fill-color);\n",
              "  }\n",
              "\n",
              "  .colab-df-quickchart-complete:disabled,\n",
              "  .colab-df-quickchart-complete:disabled:hover {\n",
              "    background-color: var(--disabled-bg-color);\n",
              "    fill: var(--disabled-fill-color);\n",
              "    box-shadow: none;\n",
              "  }\n",
              "\n",
              "  .colab-df-spinner {\n",
              "    border: 2px solid var(--fill-color);\n",
              "    border-color: transparent;\n",
              "    border-bottom-color: var(--fill-color);\n",
              "    animation:\n",
              "      spin 1s steps(1) infinite;\n",
              "  }\n",
              "\n",
              "  @keyframes spin {\n",
              "    0% {\n",
              "      border-color: transparent;\n",
              "      border-bottom-color: var(--fill-color);\n",
              "      border-left-color: var(--fill-color);\n",
              "    }\n",
              "    20% {\n",
              "      border-color: transparent;\n",
              "      border-left-color: var(--fill-color);\n",
              "      border-top-color: var(--fill-color);\n",
              "    }\n",
              "    30% {\n",
              "      border-color: transparent;\n",
              "      border-left-color: var(--fill-color);\n",
              "      border-top-color: var(--fill-color);\n",
              "      border-right-color: var(--fill-color);\n",
              "    }\n",
              "    40% {\n",
              "      border-color: transparent;\n",
              "      border-right-color: var(--fill-color);\n",
              "      border-top-color: var(--fill-color);\n",
              "    }\n",
              "    60% {\n",
              "      border-color: transparent;\n",
              "      border-right-color: var(--fill-color);\n",
              "    }\n",
              "    80% {\n",
              "      border-color: transparent;\n",
              "      border-right-color: var(--fill-color);\n",
              "      border-bottom-color: var(--fill-color);\n",
              "    }\n",
              "    90% {\n",
              "      border-color: transparent;\n",
              "      border-bottom-color: var(--fill-color);\n",
              "    }\n",
              "  }\n",
              "</style>\n",
              "\n",
              "  <script>\n",
              "    async function quickchart(key) {\n",
              "      const quickchartButtonEl =\n",
              "        document.querySelector('#' + key + ' button');\n",
              "      quickchartButtonEl.disabled = true;  // To prevent multiple clicks.\n",
              "      quickchartButtonEl.classList.add('colab-df-spinner');\n",
              "      try {\n",
              "        const charts = await google.colab.kernel.invokeFunction(\n",
              "            'suggestCharts', [key], {});\n",
              "      } catch (error) {\n",
              "        console.error('Error during call to suggestCharts:', error);\n",
              "      }\n",
              "      quickchartButtonEl.classList.remove('colab-df-spinner');\n",
              "      quickchartButtonEl.classList.add('colab-df-quickchart-complete');\n",
              "    }\n",
              "    (() => {\n",
              "      let quickchartButtonEl =\n",
              "        document.querySelector('#df-a365f3f9-eba4-445d-9a95-ed15b2fedc11 button');\n",
              "      quickchartButtonEl.style.display =\n",
              "        google.colab.kernel.accessAllowed ? 'block' : 'none';\n",
              "    })();\n",
              "  </script>\n",
              "</div>\n",
              "\n",
              "    </div>\n",
              "  </div>\n"
            ],
            "application/vnd.google.colaboratory.intrinsic+json": {
              "type": "dataframe",
              "summary": "{\n  \"name\": \"df\",\n  \"rows\": 4,\n  \"fields\": [\n    {\n      \"column\": \"User_ID\",\n      \"properties\": {\n        \"dtype\": \"number\",\n        \"std\": 482567,\n        \"min\": 1026,\n        \"max\": 1001680,\n        \"num_unique_values\": 4,\n        \"samples\": [\n          5891,\n          1026,\n          550068\n        ],\n        \"semantic_type\": \"\",\n        \"description\": \"\"\n      }\n    },\n    {\n      \"column\": \"Product_ID\",\n      \"properties\": {\n        \"dtype\": \"string\",\n        \"num_unique_values\": 4,\n        \"samples\": [\n          3631,\n          \"1880\",\n          \"550068\"\n        ],\n        \"semantic_type\": \"\",\n        \"description\": \"\"\n      }\n    },\n    {\n      \"column\": \"Gender\",\n      \"properties\": {\n        \"dtype\": \"string\",\n        \"num_unique_values\": 4,\n        \"samples\": [\n          2,\n          \"414259\",\n          \"550068\"\n        ],\n        \"semantic_type\": \"\",\n        \"description\": \"\"\n      }\n    },\n    {\n      \"column\": \"Age\",\n      \"properties\": {\n        \"dtype\": \"string\",\n        \"num_unique_values\": 4,\n        \"samples\": [\n          7,\n          \"219587\",\n          \"550068\"\n        ],\n        \"semantic_type\": \"\",\n        \"description\": \"\"\n      }\n    },\n    {\n      \"column\": \"Occupation\",\n      \"properties\": {\n        \"dtype\": \"number\",\n        \"std\": 265177,\n        \"min\": 4,\n        \"max\": 550068,\n        \"num_unique_values\": 4,\n        \"samples\": [\n          21,\n          72308,\n          550068\n        ],\n        \"semantic_type\": \"\",\n        \"description\": \"\"\n      }\n    },\n    {\n      \"column\": \"City_Category\",\n      \"properties\": {\n        \"dtype\": \"string\",\n        \"num_unique_values\": 4,\n        \"samples\": [\n          3,\n          \"231173\",\n          \"550068\"\n        ],\n        \"semantic_type\": \"\",\n        \"description\": \"\"\n      }\n    },\n    {\n      \"column\": \"Stay_In_Current_City_Years\",\n      \"properties\": {\n        \"dtype\": \"string\",\n        \"num_unique_values\": 4,\n        \"samples\": [\n          5,\n          \"193821\",\n          \"550068\"\n        ],\n        \"semantic_type\": \"\",\n        \"description\": \"\"\n      }\n    },\n    {\n      \"column\": \"Marital_Status\",\n      \"properties\": {\n        \"dtype\": \"number\",\n        \"std\": 268766,\n        \"min\": 0,\n        \"max\": 550068,\n        \"num_unique_values\": 4,\n        \"samples\": [\n          2,\n          324731,\n          550068\n        ],\n        \"semantic_type\": \"\",\n        \"description\": \"\"\n      }\n    },\n    {\n      \"column\": \"Product_Category\",\n      \"properties\": {\n        \"dtype\": \"number\",\n        \"std\": 259805,\n        \"min\": 5,\n        \"max\": 550068,\n        \"num_unique_values\": 4,\n        \"samples\": [\n          20,\n          150933,\n          550068\n        ],\n        \"semantic_type\": \"\",\n        \"description\": \"\"\n      }\n    }\n  ]\n}"
            }
          },
          "metadata": {},
          "execution_count": 21
        }
      ]
    },
    {
      "cell_type": "markdown",
      "source": [
        "### 🔍 Insights\n",
        "\n",
        "1. **User_ID**: Among 550,068 transactions, there are 5,891 unique user IDs, indicating that many customers made multiple purchases.\n",
        "   \n",
        "2. **Product_ID**: There are 3,631 unique products, with the product P00265242 being the top seller at 1,880 units sold.\n",
        "\n",
        "3. **Gender**: Of the 550,068 transactions, 414,259 (approximately 75%) were made by male customers, indicating a significant disparity in purchase behavior between males and females during Black Friday.\n",
        "\n",
        "4. **Age**: There are 7 unique age groups, with the 26-35 age group making the most transactions at 219,587. This will be analyzed further.\n",
        "\n",
        "5. **Stay_In_Current_City_Years**: Customers with a 1-year stay in their current city made the most transactions (193,821), compared to those with 0, 2, 3, or 4+ years of stay.\n",
        "\n",
        "6. **Marital_Status**: 59% of the total transactions were made by unmarried customers, while 41% were by married customers."
      ],
      "metadata": {
        "id": "9ThPN0vjhryq"
      }
    },
    {
      "cell_type": "markdown",
      "source": [
        "### Satistical summary of  numerical data type columns"
      ],
      "metadata": {
        "id": "_FiJ1JyoiMRb"
      }
    },
    {
      "cell_type": "code",
      "source": [
        "df.describe()"
      ],
      "metadata": {
        "colab": {
          "base_uri": "https://localhost:8080/",
          "height": 300
        },
        "id": "kLudqwcFiNQZ",
        "outputId": "ccc1f7ce-08a6-4efc-b301-96ca2caf6d54"
      },
      "execution_count": null,
      "outputs": [
        {
          "output_type": "execute_result",
          "data": {
            "text/plain": [
              "            Purchase\n",
              "count  550068.000000\n",
              "mean     9263.968713\n",
              "std      5023.065394\n",
              "min        12.000000\n",
              "25%      5823.000000\n",
              "50%      8047.000000\n",
              "75%     12054.000000\n",
              "max     23961.000000"
            ],
            "text/html": [
              "\n",
              "  <div id=\"df-1a9434b4-9840-4fa4-9be7-4fd2861fb678\" class=\"colab-df-container\">\n",
              "    <div>\n",
              "<style scoped>\n",
              "    .dataframe tbody tr th:only-of-type {\n",
              "        vertical-align: middle;\n",
              "    }\n",
              "\n",
              "    .dataframe tbody tr th {\n",
              "        vertical-align: top;\n",
              "    }\n",
              "\n",
              "    .dataframe thead th {\n",
              "        text-align: right;\n",
              "    }\n",
              "</style>\n",
              "<table border=\"1\" class=\"dataframe\">\n",
              "  <thead>\n",
              "    <tr style=\"text-align: right;\">\n",
              "      <th></th>\n",
              "      <th>Purchase</th>\n",
              "    </tr>\n",
              "  </thead>\n",
              "  <tbody>\n",
              "    <tr>\n",
              "      <th>count</th>\n",
              "      <td>550068.000000</td>\n",
              "    </tr>\n",
              "    <tr>\n",
              "      <th>mean</th>\n",
              "      <td>9263.968713</td>\n",
              "    </tr>\n",
              "    <tr>\n",
              "      <th>std</th>\n",
              "      <td>5023.065394</td>\n",
              "    </tr>\n",
              "    <tr>\n",
              "      <th>min</th>\n",
              "      <td>12.000000</td>\n",
              "    </tr>\n",
              "    <tr>\n",
              "      <th>25%</th>\n",
              "      <td>5823.000000</td>\n",
              "    </tr>\n",
              "    <tr>\n",
              "      <th>50%</th>\n",
              "      <td>8047.000000</td>\n",
              "    </tr>\n",
              "    <tr>\n",
              "      <th>75%</th>\n",
              "      <td>12054.000000</td>\n",
              "    </tr>\n",
              "    <tr>\n",
              "      <th>max</th>\n",
              "      <td>23961.000000</td>\n",
              "    </tr>\n",
              "  </tbody>\n",
              "</table>\n",
              "</div>\n",
              "    <div class=\"colab-df-buttons\">\n",
              "\n",
              "  <div class=\"colab-df-container\">\n",
              "    <button class=\"colab-df-convert\" onclick=\"convertToInteractive('df-1a9434b4-9840-4fa4-9be7-4fd2861fb678')\"\n",
              "            title=\"Convert this dataframe to an interactive table.\"\n",
              "            style=\"display:none;\">\n",
              "\n",
              "  <svg xmlns=\"http://www.w3.org/2000/svg\" height=\"24px\" viewBox=\"0 -960 960 960\">\n",
              "    <path d=\"M120-120v-720h720v720H120Zm60-500h600v-160H180v160Zm220 220h160v-160H400v160Zm0 220h160v-160H400v160ZM180-400h160v-160H180v160Zm440 0h160v-160H620v160ZM180-180h160v-160H180v160Zm440 0h160v-160H620v160Z\"/>\n",
              "  </svg>\n",
              "    </button>\n",
              "\n",
              "  <style>\n",
              "    .colab-df-container {\n",
              "      display:flex;\n",
              "      gap: 12px;\n",
              "    }\n",
              "\n",
              "    .colab-df-convert {\n",
              "      background-color: #E8F0FE;\n",
              "      border: none;\n",
              "      border-radius: 50%;\n",
              "      cursor: pointer;\n",
              "      display: none;\n",
              "      fill: #1967D2;\n",
              "      height: 32px;\n",
              "      padding: 0 0 0 0;\n",
              "      width: 32px;\n",
              "    }\n",
              "\n",
              "    .colab-df-convert:hover {\n",
              "      background-color: #E2EBFA;\n",
              "      box-shadow: 0px 1px 2px rgba(60, 64, 67, 0.3), 0px 1px 3px 1px rgba(60, 64, 67, 0.15);\n",
              "      fill: #174EA6;\n",
              "    }\n",
              "\n",
              "    .colab-df-buttons div {\n",
              "      margin-bottom: 4px;\n",
              "    }\n",
              "\n",
              "    [theme=dark] .colab-df-convert {\n",
              "      background-color: #3B4455;\n",
              "      fill: #D2E3FC;\n",
              "    }\n",
              "\n",
              "    [theme=dark] .colab-df-convert:hover {\n",
              "      background-color: #434B5C;\n",
              "      box-shadow: 0px 1px 3px 1px rgba(0, 0, 0, 0.15);\n",
              "      filter: drop-shadow(0px 1px 2px rgba(0, 0, 0, 0.3));\n",
              "      fill: #FFFFFF;\n",
              "    }\n",
              "  </style>\n",
              "\n",
              "    <script>\n",
              "      const buttonEl =\n",
              "        document.querySelector('#df-1a9434b4-9840-4fa4-9be7-4fd2861fb678 button.colab-df-convert');\n",
              "      buttonEl.style.display =\n",
              "        google.colab.kernel.accessAllowed ? 'block' : 'none';\n",
              "\n",
              "      async function convertToInteractive(key) {\n",
              "        const element = document.querySelector('#df-1a9434b4-9840-4fa4-9be7-4fd2861fb678');\n",
              "        const dataTable =\n",
              "          await google.colab.kernel.invokeFunction('convertToInteractive',\n",
              "                                                    [key], {});\n",
              "        if (!dataTable) return;\n",
              "\n",
              "        const docLinkHtml = 'Like what you see? Visit the ' +\n",
              "          '<a target=\"_blank\" href=https://colab.research.google.com/notebooks/data_table.ipynb>data table notebook</a>'\n",
              "          + ' to learn more about interactive tables.';\n",
              "        element.innerHTML = '';\n",
              "        dataTable['output_type'] = 'display_data';\n",
              "        await google.colab.output.renderOutput(dataTable, element);\n",
              "        const docLink = document.createElement('div');\n",
              "        docLink.innerHTML = docLinkHtml;\n",
              "        element.appendChild(docLink);\n",
              "      }\n",
              "    </script>\n",
              "  </div>\n",
              "\n",
              "\n",
              "<div id=\"df-664cec32-55bd-49f8-9c33-9295e7966644\">\n",
              "  <button class=\"colab-df-quickchart\" onclick=\"quickchart('df-664cec32-55bd-49f8-9c33-9295e7966644')\"\n",
              "            title=\"Suggest charts\"\n",
              "            style=\"display:none;\">\n",
              "\n",
              "<svg xmlns=\"http://www.w3.org/2000/svg\" height=\"24px\"viewBox=\"0 0 24 24\"\n",
              "     width=\"24px\">\n",
              "    <g>\n",
              "        <path d=\"M19 3H5c-1.1 0-2 .9-2 2v14c0 1.1.9 2 2 2h14c1.1 0 2-.9 2-2V5c0-1.1-.9-2-2-2zM9 17H7v-7h2v7zm4 0h-2V7h2v10zm4 0h-2v-4h2v4z\"/>\n",
              "    </g>\n",
              "</svg>\n",
              "  </button>\n",
              "\n",
              "<style>\n",
              "  .colab-df-quickchart {\n",
              "      --bg-color: #E8F0FE;\n",
              "      --fill-color: #1967D2;\n",
              "      --hover-bg-color: #E2EBFA;\n",
              "      --hover-fill-color: #174EA6;\n",
              "      --disabled-fill-color: #AAA;\n",
              "      --disabled-bg-color: #DDD;\n",
              "  }\n",
              "\n",
              "  [theme=dark] .colab-df-quickchart {\n",
              "      --bg-color: #3B4455;\n",
              "      --fill-color: #D2E3FC;\n",
              "      --hover-bg-color: #434B5C;\n",
              "      --hover-fill-color: #FFFFFF;\n",
              "      --disabled-bg-color: #3B4455;\n",
              "      --disabled-fill-color: #666;\n",
              "  }\n",
              "\n",
              "  .colab-df-quickchart {\n",
              "    background-color: var(--bg-color);\n",
              "    border: none;\n",
              "    border-radius: 50%;\n",
              "    cursor: pointer;\n",
              "    display: none;\n",
              "    fill: var(--fill-color);\n",
              "    height: 32px;\n",
              "    padding: 0;\n",
              "    width: 32px;\n",
              "  }\n",
              "\n",
              "  .colab-df-quickchart:hover {\n",
              "    background-color: var(--hover-bg-color);\n",
              "    box-shadow: 0 1px 2px rgba(60, 64, 67, 0.3), 0 1px 3px 1px rgba(60, 64, 67, 0.15);\n",
              "    fill: var(--button-hover-fill-color);\n",
              "  }\n",
              "\n",
              "  .colab-df-quickchart-complete:disabled,\n",
              "  .colab-df-quickchart-complete:disabled:hover {\n",
              "    background-color: var(--disabled-bg-color);\n",
              "    fill: var(--disabled-fill-color);\n",
              "    box-shadow: none;\n",
              "  }\n",
              "\n",
              "  .colab-df-spinner {\n",
              "    border: 2px solid var(--fill-color);\n",
              "    border-color: transparent;\n",
              "    border-bottom-color: var(--fill-color);\n",
              "    animation:\n",
              "      spin 1s steps(1) infinite;\n",
              "  }\n",
              "\n",
              "  @keyframes spin {\n",
              "    0% {\n",
              "      border-color: transparent;\n",
              "      border-bottom-color: var(--fill-color);\n",
              "      border-left-color: var(--fill-color);\n",
              "    }\n",
              "    20% {\n",
              "      border-color: transparent;\n",
              "      border-left-color: var(--fill-color);\n",
              "      border-top-color: var(--fill-color);\n",
              "    }\n",
              "    30% {\n",
              "      border-color: transparent;\n",
              "      border-left-color: var(--fill-color);\n",
              "      border-top-color: var(--fill-color);\n",
              "      border-right-color: var(--fill-color);\n",
              "    }\n",
              "    40% {\n",
              "      border-color: transparent;\n",
              "      border-right-color: var(--fill-color);\n",
              "      border-top-color: var(--fill-color);\n",
              "    }\n",
              "    60% {\n",
              "      border-color: transparent;\n",
              "      border-right-color: var(--fill-color);\n",
              "    }\n",
              "    80% {\n",
              "      border-color: transparent;\n",
              "      border-right-color: var(--fill-color);\n",
              "      border-bottom-color: var(--fill-color);\n",
              "    }\n",
              "    90% {\n",
              "      border-color: transparent;\n",
              "      border-bottom-color: var(--fill-color);\n",
              "    }\n",
              "  }\n",
              "</style>\n",
              "\n",
              "  <script>\n",
              "    async function quickchart(key) {\n",
              "      const quickchartButtonEl =\n",
              "        document.querySelector('#' + key + ' button');\n",
              "      quickchartButtonEl.disabled = true;  // To prevent multiple clicks.\n",
              "      quickchartButtonEl.classList.add('colab-df-spinner');\n",
              "      try {\n",
              "        const charts = await google.colab.kernel.invokeFunction(\n",
              "            'suggestCharts', [key], {});\n",
              "      } catch (error) {\n",
              "        console.error('Error during call to suggestCharts:', error);\n",
              "      }\n",
              "      quickchartButtonEl.classList.remove('colab-df-spinner');\n",
              "      quickchartButtonEl.classList.add('colab-df-quickchart-complete');\n",
              "    }\n",
              "    (() => {\n",
              "      let quickchartButtonEl =\n",
              "        document.querySelector('#df-664cec32-55bd-49f8-9c33-9295e7966644 button');\n",
              "      quickchartButtonEl.style.display =\n",
              "        google.colab.kernel.accessAllowed ? 'block' : 'none';\n",
              "    })();\n",
              "  </script>\n",
              "</div>\n",
              "\n",
              "    </div>\n",
              "  </div>\n"
            ],
            "application/vnd.google.colaboratory.intrinsic+json": {
              "type": "dataframe",
              "summary": "{\n  \"name\": \"df\",\n  \"rows\": 8,\n  \"fields\": [\n    {\n      \"column\": \"Purchase\",\n      \"properties\": {\n        \"dtype\": \"number\",\n        \"std\": 191363.80903912007,\n        \"min\": 12.0,\n        \"max\": 550068.0,\n        \"num_unique_values\": 8,\n        \"samples\": [\n          9263.968712959126,\n          8047.0,\n          550068.0\n        ],\n        \"semantic_type\": \"\",\n        \"description\": \"\"\n      }\n    }\n  ]\n}"
            }
          },
          "metadata": {},
          "execution_count": 22
        }
      ]
    },
    {
      "cell_type": "markdown",
      "source": [
        "### 🔍 Insights\n",
        "The purchase amounts in the dataset exhibit significant variation, ranging from a minimum of `$12` to a maximum of `$23,961`. Interestingly, the median purchase amount of `$8,047` falls below the mean of `$9,264`, suggesting a `right-skewed distribution`. This skewness indicates that a few high-value purchases disproportionately elevate the `mean`, while the majority of purchases cluster at lower amounts."
      ],
      "metadata": {
        "id": "plYSpdEWjYYF"
      }
    },
    {
      "cell_type": "markdown",
      "source": [
        "## 👥 Duplicate Detection"
      ],
      "metadata": {
        "id": "ITgeGsG4kU8P"
      }
    },
    {
      "cell_type": "code",
      "source": [
        "df.duplicated().value_counts()"
      ],
      "metadata": {
        "colab": {
          "base_uri": "https://localhost:8080/"
        },
        "id": "6jbQsc8ZkV8k",
        "outputId": "6625d95f-9c8a-4e87-f583-b799234b6580"
      },
      "execution_count": null,
      "outputs": [
        {
          "output_type": "execute_result",
          "data": {
            "text/plain": [
              "False    550068\n",
              "Name: count, dtype: int64"
            ]
          },
          "metadata": {},
          "execution_count": 23
        }
      ]
    },
    {
      "cell_type": "markdown",
      "source": [
        "### 🔍 Insights\n",
        "The dataset does not contain any duplicate entries."
      ],
      "metadata": {
        "id": "P5UQldlUkgP1"
      }
    },
    {
      "cell_type": "markdown",
      "source": [
        "## ✅ Sanity Check for columns"
      ],
      "metadata": {
        "id": "KdLLce7Tk2eT"
      }
    },
    {
      "cell_type": "code",
      "source": [
        "# checking the unique values for columns\n",
        "for i in df.columns:\n",
        "    print('Unique Values in',i,'column are :-')\n",
        "    print(df[i].unique())\n",
        "    print('-'*100)"
      ],
      "metadata": {
        "colab": {
          "base_uri": "https://localhost:8080/"
        },
        "id": "DX0h9R0pkulo",
        "outputId": "49a9382b-e844-457c-e131-199f4ae6a2a2"
      },
      "execution_count": null,
      "outputs": [
        {
          "output_type": "stream",
          "name": "stdout",
          "text": [
            "Unique Values in User_ID column are :-\n",
            "[1000001, 1000002, 1000003, 1000004, 1000005, ..., 1004588, 1004871, 1004113, 1005391, 1001529]\n",
            "Length: 5891\n",
            "Categories (5891, int64): [1000001, 1000002, 1000003, 1000004, ..., 1006037, 1006038, 1006039, 1006040]\n",
            "----------------------------------------------------------------------------------------------------\n",
            "Unique Values in Product_ID column are :-\n",
            "['P00069042', 'P00248942', 'P00087842', 'P00085442', 'P00285442', ..., 'P00375436', 'P00372445', 'P00370293', 'P00371644', 'P00370853']\n",
            "Length: 3631\n",
            "Categories (3631, object): ['P00000142', 'P00000242', 'P00000342', 'P00000442', ..., 'P0099642',\n",
            "                            'P0099742', 'P0099842', 'P0099942']\n",
            "----------------------------------------------------------------------------------------------------\n",
            "Unique Values in Gender column are :-\n",
            "['F', 'M']\n",
            "Categories (2, object): ['F', 'M']\n",
            "----------------------------------------------------------------------------------------------------\n",
            "Unique Values in Age column are :-\n",
            "['0-17', '55+', '26-35', '46-50', '51-55', '36-45', '18-25']\n",
            "Categories (7, object): ['0-17', '18-25', '26-35', '36-45', '46-50', '51-55', '55+']\n",
            "----------------------------------------------------------------------------------------------------\n",
            "Unique Values in Occupation column are :-\n",
            "[10, 16, 15, 7, 20, ..., 18, 5, 14, 13, 6]\n",
            "Length: 21\n",
            "Categories (21, int64): [0, 1, 2, 3, ..., 17, 18, 19, 20]\n",
            "----------------------------------------------------------------------------------------------------\n",
            "Unique Values in City_Category column are :-\n",
            "['A', 'C', 'B']\n",
            "Categories (3, object): ['A', 'B', 'C']\n",
            "----------------------------------------------------------------------------------------------------\n",
            "Unique Values in Stay_In_Current_City_Years column are :-\n",
            "['2', '4+', '3', '1', '0']\n",
            "Categories (5, object): ['0', '1', '2', '3', '4+']\n",
            "----------------------------------------------------------------------------------------------------\n",
            "Unique Values in Marital_Status column are :-\n",
            "[0, 1]\n",
            "Categories (2, int64): [0, 1]\n",
            "----------------------------------------------------------------------------------------------------\n",
            "Unique Values in Product_Category column are :-\n",
            "[3, 1, 12, 8, 5, ..., 10, 17, 9, 20, 19]\n",
            "Length: 20\n",
            "Categories (20, int64): [1, 2, 3, 4, ..., 17, 18, 19, 20]\n",
            "----------------------------------------------------------------------------------------------------\n",
            "Unique Values in Purchase column are :-\n",
            "[ 8370 15200  1422 ...   135   123   613]\n",
            "----------------------------------------------------------------------------------------------------\n"
          ]
        }
      ]
    },
    {
      "cell_type": "markdown",
      "source": [
        "### 🔍 Insights\n",
        "The dataset shows no abnormal values, indicating that all entries fall within expected ranges or categories. Additionally, in the Marital Status column, where 0 and 1 are used, we will interpret 0 as \"unmarried\" and 1 as \"married.\" This conversion simplifies the interpretation of marital status and allows for clearer analysis."
      ],
      "metadata": {
        "id": "MTpeVIxDlHxC"
      }
    },
    {
      "cell_type": "code",
      "source": [
        "#replacing the values in marital_status column\n",
        "\n",
        "df['Marital_Status'] = df['Marital_Status'].replace({0:'Unmarried',1:'Married'})\n",
        "df['Marital_Status'].unique()"
      ],
      "metadata": {
        "colab": {
          "base_uri": "https://localhost:8080/"
        },
        "id": "aN-mP65I6Xot",
        "outputId": "1863693e-f3be-4594-e4f6-7b57c11bdf37"
      },
      "execution_count": null,
      "outputs": [
        {
          "output_type": "execute_result",
          "data": {
            "text/plain": [
              "['Unmarried', 'Married']\n",
              "Categories (2, object): ['Unmarried', 'Married']"
            ]
          },
          "metadata": {},
          "execution_count": 17
        }
      ]
    },
    {
      "cell_type": "markdown",
      "source": [
        "## 👨🏽‍💻 Missing Value Analysis"
      ],
      "metadata": {
        "id": "fLFXopvh6mlO"
      }
    },
    {
      "cell_type": "code",
      "source": [
        "df.isnull().sum()"
      ],
      "metadata": {
        "colab": {
          "base_uri": "https://localhost:8080/"
        },
        "id": "Ssbq8FjT6hPS",
        "outputId": "0fe1d971-df46-43c4-b0c1-05953d1241e8"
      },
      "execution_count": null,
      "outputs": [
        {
          "output_type": "execute_result",
          "data": {
            "text/plain": [
              "User_ID                       0\n",
              "Product_ID                    0\n",
              "Gender                        0\n",
              "Age                           0\n",
              "Occupation                    0\n",
              "City_Category                 0\n",
              "Stay_In_Current_City_Years    0\n",
              "Marital_Status                0\n",
              "Product_Category              0\n",
              "Purchase                      0\n",
              "dtype: int64"
            ]
          },
          "metadata": {},
          "execution_count": 26
        }
      ]
    },
    {
      "cell_type": "markdown",
      "source": [
        "### 🔍 Insights\n",
        "\n",
        "The dataset does not contain any missing values."
      ],
      "metadata": {
        "id": "axqB9hLa7tmv"
      }
    },
    {
      "cell_type": "markdown",
      "source": [
        "### **Statistical Summary for Outliers**"
      ],
      "metadata": {
        "id": "rfZlBJVI-gnT"
      }
    },
    {
      "cell_type": "code",
      "source": [
        "Q1 = df['Purchase'].quantile(0.25)\n",
        "Q3 = df['Purchase'].quantile(0.75)\n",
        "IQR = Q3 - Q1\n",
        "\n",
        "# Define outliers as points below Q1 - 1.5*IQR or above Q3 + 1.5*IQR\n",
        "lower_bound = Q1 - 1.5 * IQR\n",
        "upper_bound = Q3 + 1.5 * IQR\n",
        "\n",
        "outliers = df[(df['Purchase'] < lower_bound) | (df['Purchase'] > upper_bound)]\n",
        "\n",
        "print(f\"Number of outliers: {outliers.shape[0]}\")\n",
        "print(f\"Outliers:\\n{outliers}\")\n"
      ],
      "metadata": {
        "colab": {
          "base_uri": "https://localhost:8080/"
        },
        "id": "Q-lyPiYv-mkE",
        "outputId": "a8da18c5-77ce-4573-892a-475bcb4809b8"
      },
      "execution_count": null,
      "outputs": [
        {
          "output_type": "stream",
          "name": "stdout",
          "text": [
            "Number of outliers: 2677\n",
            "Outliers:\n",
            "        User_ID Product_ID Gender    Age Occupation City_Category  \\\n",
            "343     1000058  P00117642      M  26-35          2             B   \n",
            "375     1000062  P00119342      F  36-45          3             A   \n",
            "652     1000126  P00087042      M  18-25          9             B   \n",
            "736     1000139  P00159542      F  26-35         20             C   \n",
            "1041    1000175  P00052842      F  26-35          2             B   \n",
            "...         ...        ...    ...    ...        ...           ...   \n",
            "544488  1005815  P00116142      M  26-35         20             B   \n",
            "544704  1005847  P00085342      F  18-25          4             B   \n",
            "544743  1005852  P00202242      F  26-35          1             A   \n",
            "545663  1006002  P00116142      M  51-55          0             C   \n",
            "545787  1006018  P00052842      M  36-45          1             C   \n",
            "\n",
            "       Stay_In_Current_City_Years Marital_Status Product_Category  Purchase  \n",
            "343                             3      Unmarried               10     23603  \n",
            "375                             1      Unmarried               10     23792  \n",
            "652                             1      Unmarried               10     23233  \n",
            "736                             2      Unmarried               10     23595  \n",
            "1041                            1      Unmarried               10     23341  \n",
            "...                           ...            ...              ...       ...  \n",
            "544488                          1      Unmarried               10     23753  \n",
            "544704                          2      Unmarried               10     23724  \n",
            "544743                          0        Married               10     23529  \n",
            "545663                          1        Married               10     23663  \n",
            "545787                          3      Unmarried               10     23496  \n",
            "\n",
            "[2677 rows x 10 columns]\n"
          ]
        }
      ]
    },
    {
      "cell_type": "markdown",
      "source": [
        "### 🔍 Insights on Outliers Detection\n",
        "\n",
        "- **Number of Outliers**: 2,677 high-value transactions.\n",
        "- **Product Focus**: High outliers in products like `P00116142`, `P00052842`, and Product Category `10`.\n",
        "- **Demographics**: Diverse representation among outliers, with significant transactions from the `26-35` age group, both genders, and all city categories.\n",
        "- **Marital Status**: Slight skew towards unmarried customers among outliers."
      ],
      "metadata": {
        "id": "Lxl12SMXAHwc"
      }
    },
    {
      "cell_type": "markdown",
      "source": [
        "# **3 Univariate Analysis**"
      ],
      "metadata": {
        "id": "VtfV9MQ28ZGa"
      }
    },
    {
      "cell_type": "markdown",
      "source": [
        "## **3.1 Gender Distribution**"
      ],
      "metadata": {
        "id": "AeTKnV_TB6qc"
      }
    },
    {
      "cell_type": "code",
      "source": [
        "# Countplot for Gender\n",
        "plt.figure(figsize=(8, 5))\n",
        "sns.countplot(data=df, x='Gender')\n",
        "plt.title('Gender Distribution')\n",
        "plt.show()"
      ],
      "metadata": {
        "colab": {
          "base_uri": "https://localhost:8080/",
          "height": 487
        },
        "id": "LUmxqihaCat5",
        "outputId": "c33bb856-62f9-4082-95e6-b256d6ad1d2b"
      },
      "execution_count": null,
      "outputs": [
        {
          "output_type": "display_data",
          "data": {
            "text/plain": [
              "<Figure size 800x500 with 1 Axes>"
            ],
            "image/png": "[encoded data removed]"
          },
          "metadata": {}
        }
      ]
    },
    {
      "cell_type": "markdown",
      "source": [
        "## **3.1.2 Age Distribution**"
      ],
      "metadata": {
        "id": "2F73FyimCqhl"
      }
    },
    {
      "cell_type": "code",
      "source": [
        "# Histogram for Age\n",
        "plt.figure(figsize=(10, 6))\n",
        "sns.histplot(data=df, x='Age', discrete=True)\n",
        "plt.title('Age Distribution')\n",
        "plt.show()\n"
      ],
      "metadata": {
        "colab": {
          "base_uri": "https://localhost:8080/",
          "height": 564
        },
        "id": "qjXolG0xCxBW",
        "outputId": "86bfa5e3-a879-4fd0-ad0b-6810dcea04bf"
      },
      "execution_count": null,
      "outputs": [
        {
          "output_type": "display_data",
          "data": {
            "text/plain": [
              "<Figure size 1000x600 with 1 Axes>"
            ],
            "image/png": "[encoded data removed]"
          },
          "metadata": {}
        }
      ]
    },
    {
      "cell_type": "markdown",
      "source": [
        "## **3.1.3 Purchase Distribution**"
      ],
      "metadata": {
        "id": "LS1DCF9AC5_P"
      }
    },
    {
      "cell_type": "code",
      "source": [
        "# Histogram for Purchase\n",
        "plt.figure(figsize=(10, 6))\n",
        "sns.histplot(data=df, x='Purchase', bins=30, kde=True)\n",
        "plt.title('Purchase Amount Distribution')\n",
        "plt.show()"
      ],
      "metadata": {
        "colab": {
          "base_uri": "https://localhost:8080/",
          "height": 564
        },
        "id": "yktDU8YADCWY",
        "outputId": "1c774170-2308-4fc7-eab4-7f3abde18f16"
      },
      "execution_count": null,
      "outputs": [
        {
          "output_type": "display_data",
          "data": {
            "text/plain": [
              "<Figure size 1000x600 with 1 Axes>"
            ],
            "image/png": "[encoded data removed]"
          },
          "metadata": {}
        }
      ]
    },
    {
      "cell_type": "markdown",
      "source": [
        "### 🔍 Insights for Univariate Analysis\n",
        "\n",
        "#### Gender Distribution\n",
        "- **Observation**: ~75% of transactions are by male customers.\n",
        "- **Insight**: Marketing strategies could focus on increasing female customer participation.\n",
        "\n",
        "#### Age Distribution\n",
        "- **Observation**: The `26-35` age group has the highest transaction frequency.\n",
        "- **Insight**: Targeted promotions for this age segment can maximize sales.\n",
        "\n",
        "#### Purchase Amount Distribution\n",
        "- **Observation**: Purchase amounts are right-skewed, with a mean of $9,263.97 and some high-value outliers.\n",
        "- **Insight**: High-value transactions suggest opportunities to identify and promote high-demand products."
      ],
      "metadata": {
        "id": "wwWCooTmF06W"
      }
    },
    {
      "cell_type": "markdown",
      "source": [
        "# **4 Bivariate Analysis**"
      ],
      "metadata": {
        "id": "ZI0rUyETEYhU"
      }
    },
    {
      "cell_type": "markdown",
      "source": [
        "## **4.1 Gender vs. Purchase**"
      ],
      "metadata": {
        "id": "OB9SzR-jEjH9"
      }
    },
    {
      "cell_type": "code",
      "source": [
        "# Boxplot for Gender vs. Purchase\n",
        "plt.figure(figsize=(10, 6))\n",
        "sns.boxplot(data=df, x='Gender', y='Purchase')\n",
        "plt.title('Purchase Amount by Gender')\n",
        "plt.show()"
      ],
      "metadata": {
        "colab": {
          "base_uri": "https://localhost:8080/",
          "height": 564
        },
        "id": "Ow4KTJQUEm9t",
        "outputId": "a651f485-4f2d-4ba7-d2cf-c0ce36324915"
      },
      "execution_count": null,
      "outputs": [
        {
          "output_type": "display_data",
          "data": {
            "text/plain": [
              "<Figure size 1000x600 with 1 Axes>"
            ],
            "image/png": "[encoded data removed]"
          },
          "metadata": {}
        }
      ]
    },
    {
      "cell_type": "markdown",
      "source": [
        "## **4.2 Age vs. Purchase**"
      ],
      "metadata": {
        "id": "ED_RVz1qEsjZ"
      }
    },
    {
      "cell_type": "code",
      "source": [
        "# Boxplot for Age vs. Purchase\n",
        "plt.figure(figsize=(12, 8))\n",
        "sns.boxplot(data=df, x='Age', y='Purchase')\n",
        "plt.title('Purchase Amount by Age Group')\n",
        "plt.show()\n"
      ],
      "metadata": {
        "colab": {
          "base_uri": "https://localhost:8080/",
          "height": 718
        },
        "id": "0BJexxPjEynl",
        "outputId": "4c093587-99d7-4798-973f-b2c346b37263"
      },
      "execution_count": null,
      "outputs": [
        {
          "output_type": "display_data",
          "data": {
            "text/plain": [
              "<Figure size 1200x800 with 1 Axes>"
            ],
            "image/png": "[encoded data removed]"
          },
          "metadata": {}
        }
      ]
    },
    {
      "cell_type": "markdown",
      "source": [
        "## **4.3 Marital Status vs. Purchase**"
      ],
      "metadata": {
        "id": "-wttnwLpFAoL"
      }
    },
    {
      "cell_type": "code",
      "source": [
        "# Boxplot for Marital Status vs. Purchase\n",
        "plt.figure(figsize=(10, 6))\n",
        "sns.boxplot(data=df, x='Marital_Status', y='Purchase')\n",
        "plt.title('Purchase Amount by Marital Status')\n",
        "plt.show()\n"
      ],
      "metadata": {
        "colab": {
          "base_uri": "https://localhost:8080/",
          "height": 564
        },
        "id": "6N5as_ihE82_",
        "outputId": "f9dd4892-250f-4984-caa3-1f3ef6fc4be9"
      },
      "execution_count": null,
      "outputs": [
        {
          "output_type": "display_data",
          "data": {
            "text/plain": [
              "<Figure size 1000x600 with 1 Axes>"
            ],
            "image/png": "[encoded data removed]"
          },
          "metadata": {}
        }
      ]
    },
    {
      "cell_type": "markdown",
      "source": [
        "## **4.4 City Category vs. Purchase**"
      ],
      "metadata": {
        "id": "lDA90KdWFMvt"
      }
    },
    {
      "cell_type": "code",
      "source": [
        "# Boxplot for City Category vs. Purchase\n",
        "plt.figure(figsize=(10, 6))\n",
        "sns.boxplot(data=df, x='City_Category', y='Purchase')\n",
        "plt.title('Purchase Amount by City Category')\n",
        "plt.show()\n"
      ],
      "metadata": {
        "colab": {
          "base_uri": "https://localhost:8080/",
          "height": 564
        },
        "id": "17EFLK9MFQEj",
        "outputId": "f1918ad8-85f1-4682-df95-5ccbc909b5b2"
      },
      "execution_count": null,
      "outputs": [
        {
          "output_type": "display_data",
          "data": {
            "text/plain": [
              "<Figure size 1000x600 with 1 Axes>"
            ],
            "image/png": "[encoded data removed]"
          },
          "metadata": {}
        }
      ]
    },
    {
      "cell_type": "markdown",
      "source": [
        "### 🔍 Insights for Bivariate Analysis\n",
        "\n",
        "#### Gender vs. Purchases\n",
        "- **Observation**: The average purchase amount for males and females shows some variation, but the distribution has a similar spread.\n",
        "- **Insight**: Both genders have similar spending patterns, but the higher number of transactions by males drives overall sales. Walmart can explore strategies to balance the gender disparity in transactions.\n",
        "\n",
        "#### Age vs. Purchases\n",
        "- **Observation**: The `26-35` age group has the highest average purchase amount, followed by `36-45` and `18-25`.\n",
        "- **Insight**: Younger adults (26-35) are the primary spenders. Targeted marketing and tailored promotions for this age group could enhance sales further.\n",
        "\n",
        "#### Marital Status vs. Purchases\n",
        "- **Observation**: Unmarried customers tend to have slightly higher average purchases compared to married customers.\n",
        "- **Insight**: Marketing strategies could be developed to cater to unmarried customers, potentially highlighting products or services that appeal to this demographic.\n",
        "\n",
        "#### City Category vs. Purchases\n",
        "- **Observation**: Purchases are fairly consistent across city categories (A, B, C), with no significant differences in average purchase amounts.\n",
        "- **Insight**: Demand is uniform across different city categories, indicating a broad, nationwide appeal. Walmart can maintain consistent inventory and marketing efforts across all city categories."
      ],
      "metadata": {
        "id": "YdELGPq0GXLH"
      }
    },
    {
      "cell_type": "markdown",
      "source": [
        "# **5  Analysis of Average Spending and Purchase Amount by Gender**"
      ],
      "metadata": {
        "id": "yID58NMNFSy7"
      }
    },
    {
      "cell_type": "markdown",
      "source": [
        "## **5.1 Average Purchase Amount by Gender**"
      ],
      "metadata": {
        "id": "adfhNO_ZWH48"
      }
    },
    {
      "cell_type": "code",
      "source": [
        "# Average Purchase Amount by Gender\n",
        "average_purchase_gender = df.groupby('Gender')['Purchase'].mean()\n",
        "print(average_purchase_gender)\n"
      ],
      "metadata": {
        "colab": {
          "base_uri": "https://localhost:8080/"
        },
        "id": "CUwGhsrLFgWX",
        "outputId": "74e46770-94fe-4144-966f-601e4ef9c5d9"
      },
      "execution_count": null,
      "outputs": [
        {
          "output_type": "stream",
          "name": "stdout",
          "text": [
            "Gender\n",
            "F    8734.565765\n",
            "M    9437.526040\n",
            "Name: Purchase, dtype: float64\n"
          ]
        }
      ]
    },
    {
      "cell_type": "markdown",
      "source": [
        "### 🔍 Insights for Average Purchase Amount by Gender\n",
        "\n",
        "- **Observation**: The average purchase amount for female customers is `$8,734.57`, while for male customers it is `$9,437.53`.\n",
        "- **Insight**: Male customers spend more on average compared to female customers. This suggests that marketing campaigns could focus on further increasing the spending of male customers. Additionally, strategies to encourage higher spending by female customers, such as personalized promotions or product recommendations, could help bridge the spending gap."
      ],
      "metadata": {
        "id": "WSCkhqZXGphX"
      }
    },
    {
      "cell_type": "markdown",
      "source": [
        "## **5.2 Confidence Intervals for Average Spending by Gender**"
      ],
      "metadata": {
        "id": "3uvf0QIcHVfg"
      }
    },
    {
      "cell_type": "code",
      "source": [
        "from scipy import stats\n",
        "\n",
        "# Function to calculate confidence interval\n",
        "def confidence_interval(data, confidence=0.95):\n",
        "    mean = np.mean(data)\n",
        "    sem = stats.sem(data)\n",
        "    margin = sem * stats.t.ppf((1 + confidence) / 2, len(data) - 1)\n",
        "    return (mean, mean - margin, mean + margin)\n",
        "\n",
        "# Confidence intervals for Male and Female\n",
        "male_purchase = df[df['Gender'] == 'M']['Purchase']\n",
        "female_purchase = df[df['Gender'] == 'F']['Purchase']\n",
        "\n",
        "male_ci = confidence_interval(male_purchase)\n",
        "female_ci = confidence_interval(female_purchase)\n",
        "\n",
        "print(f\"Confidence Interval for Male: {male_ci}\")\n",
        "print(f\"Confidence Interval for Female: {female_ci}\")\n"
      ],
      "metadata": {
        "colab": {
          "base_uri": "https://localhost:8080/"
        },
        "id": "pPqtvMevHt2-",
        "outputId": "1605bf21-8a95-4bd4-b37b-66c4faedbc98"
      },
      "execution_count": null,
      "outputs": [
        {
          "output_type": "stream",
          "name": "stdout",
          "text": [
            "Confidence Interval for Male: (9437.526040472265, 9422.019402055814, 9453.032678888716)\n",
            "Confidence Interval for Female: (8734.565765155476, 8709.21132117373, 8759.92020913722)\n"
          ]
        }
      ]
    },
    {
      "cell_type": "markdown",
      "source": [
        "### 🔍 Insights for Confidence Intervals for Average Spending by Gender\n",
        "\n",
        "- **Observation**:\n",
        "  - The confidence interval for the average spending by male customers is `($9422.02, $9453.03)`.\n",
        "  - The confidence interval for the average spending by female customers is `($8709.21, $8759.92)`.\n",
        "\n",
        "- **Insight**: The confidence intervals do not overlap, indicating a statistically significant difference in average spending between male and female customers. Walmart can leverage this insight by tailoring marketing strategies to each gender, potentially offering targeted promotions to female customers to encourage higher spending."
      ],
      "metadata": {
        "id": "-OVEFtyPJKjq"
      }
    },
    {
      "cell_type": "markdown",
      "source": [
        "# **6 Analysis of Purchase Amount and Average Spending by Marital Status**"
      ],
      "metadata": {
        "id": "Bpk3O5WyV4Ym"
      }
    },
    {
      "cell_type": "markdown",
      "source": [
        "## **6.1 Average Purchase Amount by Marital Status**"
      ],
      "metadata": {
        "id": "D7Se93EXJdJW"
      }
    },
    {
      "cell_type": "code",
      "source": [
        "# Average Purchase Amount by Marital Status\n",
        "average_purchase_marital = df.groupby('Marital_Status')['Purchase'].mean()\n",
        "print(average_purchase_marital)\n"
      ],
      "metadata": {
        "colab": {
          "base_uri": "https://localhost:8080/"
        },
        "id": "O-vX9o6lJvYK",
        "outputId": "5e8d800c-53e7-4d6c-8887-c45c3423d4ee"
      },
      "execution_count": null,
      "outputs": [
        {
          "output_type": "stream",
          "name": "stdout",
          "text": [
            "Marital_Status\n",
            "Unmarried    9265.907619\n",
            "Married      9261.174574\n",
            "Name: Purchase, dtype: float64\n"
          ]
        }
      ]
    },
    {
      "cell_type": "markdown",
      "source": [
        "### 🔍 Insights for Average Purchase Amount by Marital Status\n",
        "\n",
        "- **Insight**: The average purchase amounts for unmarried and married customers are very similar, with unmarried customers spending slightly more on average `($9265.91)` compared to married customers `($9261.17)`."
      ],
      "metadata": {
        "id": "z5q64v1SKELj"
      }
    },
    {
      "cell_type": "markdown",
      "source": [
        "## **6.2 Confidence Intervals for Average Spending by Marital Status**"
      ],
      "metadata": {
        "id": "MagbOtDvKONm"
      }
    },
    {
      "cell_type": "code",
      "source": [
        "# Confidence intervals for Married and Unmarried\n",
        "married_purchase = df[df['Marital_Status'] == 'Unmarried']['Purchase']\n",
        "unmarried_purchase = df[df['Marital_Status'] == 'Married']['Purchase']\n",
        "\n",
        "married_ci = confidence_interval(married_purchase)\n",
        "unmarried_ci = confidence_interval(unmarried_purchase)\n",
        "\n",
        "print(f\"Confidence Interval for Married: {married_ci}\")\n",
        "print(f\"Confidence Interval for Unmarried: {unmarried_ci}\")\n"
      ],
      "metadata": {
        "colab": {
          "base_uri": "https://localhost:8080/"
        },
        "id": "jHNYFi34KS8h",
        "outputId": "6503ca54-64c1-41ff-f2b2-c5d273637e63"
      },
      "execution_count": null,
      "outputs": [
        {
          "output_type": "stream",
          "name": "stdout",
          "text": [
            "Confidence Interval for Married: (9265.907618921507, 9248.616353737028, 9283.198884105985)\n",
            "Confidence Interval for Unmarried: (9261.174574082374, 9240.460315792989, 9281.888832371758)\n"
          ]
        }
      ]
    },
    {
      "cell_type": "markdown",
      "source": [
        "### 🔍 Insights for Confidence Intervals for Average Spending by Marital Status\n",
        "\n",
        "- **Insight**:\n",
        "  - The confidence interval for the average spending by married customers is `($9248.62, $9283.20)`.\n",
        "  - The confidence interval for the average spending by unmarried customers is `($9240.46, $9281.89)`.\n",
        "\n",
        "The confidence intervals for married and unmarried customers overlap significantly, indicating no substantial difference in average spending between the two groups."
      ],
      "metadata": {
        "id": "y7qd89DiK5dq"
      }
    },
    {
      "cell_type": "markdown",
      "source": [
        "# **7  Analysis of Purchase Amount and Average Spending by Age Group**"
      ],
      "metadata": {
        "id": "mnD-Awj0W85l"
      }
    },
    {
      "cell_type": "markdown",
      "source": [
        "## **7.1 Average Purchase Amount by Age Group**"
      ],
      "metadata": {
        "id": "maR61Yx6LLau"
      }
    },
    {
      "cell_type": "code",
      "source": [
        "# Average Purchase Amount by Age Group\n",
        "average_purchase_age = df.groupby('Age')['Purchase'].mean()\n",
        "print(average_purchase_age)\n"
      ],
      "metadata": {
        "colab": {
          "base_uri": "https://localhost:8080/"
        },
        "id": "ohpZ2JXTLZc-",
        "outputId": "0c18ee11-3b89-43c6-dc37-25d7b1c04dce"
      },
      "execution_count": null,
      "outputs": [
        {
          "output_type": "stream",
          "name": "stdout",
          "text": [
            "Age\n",
            "0-17     8933.464640\n",
            "18-25    9169.663606\n",
            "26-35    9252.690633\n",
            "36-45    9331.350695\n",
            "46-50    9208.625697\n",
            "51-55    9534.808031\n",
            "55+      9336.280459\n",
            "Name: Purchase, dtype: float64\n"
          ]
        }
      ]
    },
    {
      "cell_type": "markdown",
      "source": [
        "## **7.2 Confidence Intervals for Average Spending by Age Group**"
      ],
      "metadata": {
        "id": "IRbTsjZhLeEY"
      }
    },
    {
      "cell_type": "code",
      "source": [
        "# Confidence intervals for each age group\n",
        "age_groups = df['Age'].unique()\n",
        "for age_group in age_groups:\n",
        "    age_group_purchase = df[df['Age'] == age_group]['Purchase']\n",
        "    age_group_ci = confidence_interval(age_group_purchase)\n",
        "    print(f\"Confidence Interval for Age Group {age_group}: {age_group_ci}\")\n"
      ],
      "metadata": {
        "colab": {
          "base_uri": "https://localhost:8080/"
        },
        "id": "ZGi4ghKjLirR",
        "outputId": "3a22a4d6-94f7-469f-8a6a-5f63b64a2585"
      },
      "execution_count": null,
      "outputs": [
        {
          "output_type": "stream",
          "name": "stdout",
          "text": [
            "Confidence Interval for Age Group 0-17: (8933.464640444974, 8851.941436361221, 9014.987844528727)\n",
            "Confidence Interval for Age Group 55+: (9336.280459449405, 9269.295063935433, 9403.265854963376)\n",
            "Confidence Interval for Age Group 26-35: (9252.690632869888, 9231.733560884022, 9273.647704855754)\n",
            "Confidence Interval for Age Group 46-50: (9208.625697468327, 9163.08393647555, 9254.167458461105)\n",
            "Confidence Interval for Age Group 51-55: (9534.808030960236, 9483.989875153999, 9585.626186766473)\n",
            "Confidence Interval for Age Group 36-45: (9331.350694917874, 9301.669084404875, 9361.032305430872)\n",
            "Confidence Interval for Age Group 18-25: (9169.663606261289, 9138.40756914702, 9200.919643375557)\n"
          ]
        }
      ]
    },
    {
      "cell_type": "markdown",
      "source": [
        "### 🔍 Insights for Confidence Intervals for Average Spending by age group\n",
        "\n",
        "\n",
        "Observing the confidence intervals for average spending by age group reveals some interesting highlights:\n",
        "\n",
        "- **Age Group 51-55**: This demographic exhibits the highest estimated average spending, with a range between approximately `$9483` and `$9585`. This suggests that individuals in their early 50s are the most significant spenders among the age groups analyzed.\n",
        "  \n",
        "- **Age Group 18-25**: Despite being younger, individuals in this age range also show relatively high estimated average spending, with a range between approximately `$9138` and `$9200`. This might be attributed to factors such as disposable income or spending habits influenced by lifestyle choices and trends.\n",
        "\n",
        "- **Age Group 55+**: While not the highest, individuals aged 55 and above also demonstrate noteworthy estimated average spending, with a range between approximately `$9269` and `$9403`. This indicates that older demographics continue to contribute substantially to overall spending patterns.\n",
        "\n",
        "- **Age Group 0-17**: Surprisingly, even though this group includes minors, their estimated average spending still falls within a notable range of approximately `$8851` to `$9014`. This could be influenced by parental spending on behalf of children or discretionary income among teenagers.\n",
        "\n",
        "These observations underscore the importance of understanding age-related spending behaviors to tailor marketing strategies and product offerings effectively across different age demographics."
      ],
      "metadata": {
        "id": "ObsBn27fMppL"
      }
    },
    {
      "cell_type": "markdown",
      "source": [
        "# **8 Business Recomendations**"
      ],
      "metadata": {
        "id": "IyPGr-eUOPmC"
      }
    },
    {
      "cell_type": "markdown",
      "source": [
        "**Business Recommendations:**\n",
        "\n",
        "1. **Gender-Targeted Marketing**: Develop gender-specific marketing campaigns to address the significant disparity in purchase behavior between male and female customers observed during Black Friday. Focus on increasing female customer participation through targeted promotions and incentives tailored to their preferences.\n",
        "\n",
        "2. **Age-Specific Promotions**: Capitalize on the spending patterns of the 26-35 age group, which exhibits the highest transaction frequency. Implement targeted promotions and product offerings to maximize sales from this demographic segment. Additionally, consider strategies to attract younger adults (18-25) who also demonstrate relatively high average spending.\n",
        "\n",
        "3. **Product Focus**: Identify and promote high-demand products, such as those with high outlier values like P00116142 and P00052842. Tailor marketing efforts towards these products to capitalize on their popularity and drive sales further.\n",
        "\n",
        "4. **Marital Status Marketing**: Develop marketing strategies to cater to both married and unmarried customers, considering their slight differences in average spending. Highlight products or services that appeal to each demographic segment, potentially offering exclusive deals or incentives to encourage higher spending.\n",
        "\n",
        "5. **Customer Segmentation**: Utilize demographic information, including age and marital status, for customer segmentation. Customize marketing communications and promotions based on these segmentation criteria to enhance customer engagement and drive sales.\n",
        "\n",
        "6. **Continuous Monitoring and Adaptation**: Continuously monitor spending trends and consumer preferences to adapt strategies and offerings accordingly. Stay agile and responsive to changing market dynamics, ensuring relevance and effectiveness in attracting and retaining customers.\n",
        "\n",
        "By implementing these recommendations, Walmart can optimize its marketing efforts, enhance customer satisfaction, and drive revenue growth during Black Friday and beyond."
      ],
      "metadata": {
        "id": "79nI0l9LOVv_"
      }
    }
  ]
}